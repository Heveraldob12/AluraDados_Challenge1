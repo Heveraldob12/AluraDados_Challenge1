{
  "cells": [
    {
      "cell_type": "markdown",
      "metadata": {
        "id": "ifxd-JBmK04W"
      },
      "source": [
        "## Imports\n",
        "\n",
        "----\n"
      ]
    },
    {
      "cell_type": "code",
      "execution_count": 1,
      "metadata": {
        "execution": {
          "iopub.execute_input": "2022-09-15T14:50:48.637005Z",
          "iopub.status.busy": "2022-09-15T14:50:48.636122Z",
          "iopub.status.idle": "2022-09-15T14:50:48.644509Z",
          "shell.execute_reply": "2022-09-15T14:50:48.642909Z",
          "shell.execute_reply.started": "2022-09-15T14:50:48.636963Z"
        },
        "id": "K2lj8IFVK04y"
      },
      "outputs": [],
      "source": [
        "import pandas as pd\n",
        "import numpy as np\n",
        "import seaborn as sns\n",
        "import matplotlib.pyplot as plt\n",
        "from sklearn.preprocessing import StandardScaler, OneHotEncoder\n",
        "from sklearn.model_selection import train_test_split,cross_val_score\n",
        "from sklearn.ensemble import RandomForestClassifier,GradientBoostingClassifier\n",
        "from sklearn.dummy import DummyClassifier\n",
        "from sklearn.metrics import ConfusionMatrixDisplay,precision_score,accuracy_score,recall_score,RocCurveDisplay\n",
        "from imblearn.under_sampling import NearMiss \n",
        "import pickle\n",
        "from flask import Flask, request, jsonify\n",
        "import os"
      ]
    },
    {
      "cell_type": "markdown",
      "metadata": {
        "id": "VARuorrJK043"
      },
      "source": [
        "## Exploração de dados"
      ]
    },
    {
      "cell_type": "code",
      "execution_count": 2,
      "metadata": {
        "colab": {
          "base_uri": "https://localhost:8080/",
          "height": 661
        },
        "execution": {
          "iopub.execute_input": "2022-09-15T14:05:20.044916Z",
          "iopub.status.busy": "2022-09-15T14:05:20.044483Z",
          "iopub.status.idle": "2022-09-15T14:05:20.166796Z",
          "shell.execute_reply": "2022-09-15T14:05:20.165473Z",
          "shell.execute_reply.started": "2022-09-15T14:05:20.044882Z"
        },
        "id": "nBn3olDjK048",
        "outputId": "1410f74e-25ca-4314-c6f1-8bed0a8dc778"
      },
      "outputs": [
        {
          "data": {
            "text/html": [
              "<div>\n",
              "<style scoped>\n",
              "    .dataframe tbody tr th:only-of-type {\n",
              "        vertical-align: middle;\n",
              "    }\n",
              "\n",
              "    .dataframe tbody tr th {\n",
              "        vertical-align: top;\n",
              "    }\n",
              "\n",
              "    .dataframe thead th {\n",
              "        text-align: right;\n",
              "    }\n",
              "</style>\n",
              "<table border=\"1\" class=\"dataframe\">\n",
              "  <thead>\n",
              "    <tr style=\"text-align: right;\">\n",
              "      <th></th>\n",
              "      <th>pessoa_id</th>\n",
              "      <th>idade</th>\n",
              "      <th>salario_anual</th>\n",
              "      <th>situacao_moradia</th>\n",
              "      <th>tempo_de_trabalho</th>\n",
              "      <th>motivo_do_emprestimo</th>\n",
              "      <th>pontuacao</th>\n",
              "      <th>valor_emprestimo</th>\n",
              "      <th>taxa_de_juros</th>\n",
              "      <th>possibilidade_de_inadimplencia</th>\n",
              "      <th>renda_percentual</th>\n",
              "      <th>inadimplente</th>\n",
              "      <th>tempo_solicitacao</th>\n",
              "    </tr>\n",
              "  </thead>\n",
              "  <tbody>\n",
              "    <tr>\n",
              "      <th>0</th>\n",
              "      <td>1ZbMkM4F-9u8Y</td>\n",
              "      <td>32.0</td>\n",
              "      <td>77400.0</td>\n",
              "      <td>Mortgage</td>\n",
              "      <td>0.0</td>\n",
              "      <td>Debtconsolidation</td>\n",
              "      <td>F</td>\n",
              "      <td>10000.0</td>\n",
              "      <td>18.43</td>\n",
              "      <td>1.0</td>\n",
              "      <td>0.13</td>\n",
              "      <td>N</td>\n",
              "      <td>6</td>\n",
              "    </tr>\n",
              "    <tr>\n",
              "      <th>1</th>\n",
              "      <td>2Mbkmbsu-7foj</td>\n",
              "      <td>NaN</td>\n",
              "      <td>30000.0</td>\n",
              "      <td>Rent</td>\n",
              "      <td>1.0</td>\n",
              "      <td>Personal</td>\n",
              "      <td>A</td>\n",
              "      <td>7200.0</td>\n",
              "      <td>17.58</td>\n",
              "      <td>NaN</td>\n",
              "      <td>0.14</td>\n",
              "      <td>Y</td>\n",
              "      <td>2</td>\n",
              "    </tr>\n",
              "    <tr>\n",
              "      <th>2</th>\n",
              "      <td>283zsKkk-MN9S</td>\n",
              "      <td>23.0</td>\n",
              "      <td>108000.0</td>\n",
              "      <td>Mortgage</td>\n",
              "      <td>5.0</td>\n",
              "      <td>Debtconsolidation</td>\n",
              "      <td>D</td>\n",
              "      <td>10000.0</td>\n",
              "      <td>NaN</td>\n",
              "      <td>1.0</td>\n",
              "      <td>0.09</td>\n",
              "      <td>Y</td>\n",
              "      <td>2</td>\n",
              "    </tr>\n",
              "    <tr>\n",
              "      <th>3</th>\n",
              "      <td>2KDiPOQQ-H7G5</td>\n",
              "      <td>32.0</td>\n",
              "      <td>80000.0</td>\n",
              "      <td>Rent</td>\n",
              "      <td>0.0</td>\n",
              "      <td>Debtconsolidation</td>\n",
              "      <td>C</td>\n",
              "      <td>5000.0</td>\n",
              "      <td>NaN</td>\n",
              "      <td>0.0</td>\n",
              "      <td>0.06</td>\n",
              "      <td>N</td>\n",
              "      <td>6</td>\n",
              "    </tr>\n",
              "    <tr>\n",
              "      <th>4</th>\n",
              "      <td>0PtiPv5h-nd0L</td>\n",
              "      <td>21.0</td>\n",
              "      <td>47580.0</td>\n",
              "      <td>Mortgage</td>\n",
              "      <td>5.0</td>\n",
              "      <td>Education</td>\n",
              "      <td>A</td>\n",
              "      <td>14000.0</td>\n",
              "      <td>6.03</td>\n",
              "      <td>0.0</td>\n",
              "      <td>0.29</td>\n",
              "      <td>N</td>\n",
              "      <td>2</td>\n",
              "    </tr>\n",
              "    <tr>\n",
              "      <th>...</th>\n",
              "      <td>...</td>\n",
              "      <td>...</td>\n",
              "      <td>...</td>\n",
              "      <td>...</td>\n",
              "      <td>...</td>\n",
              "      <td>...</td>\n",
              "      <td>...</td>\n",
              "      <td>...</td>\n",
              "      <td>...</td>\n",
              "      <td>...</td>\n",
              "      <td>...</td>\n",
              "      <td>...</td>\n",
              "      <td>...</td>\n",
              "    </tr>\n",
              "    <tr>\n",
              "      <th>34480</th>\n",
              "      <td>u2bFPCXN-KETS</td>\n",
              "      <td>29.0</td>\n",
              "      <td>91200.0</td>\n",
              "      <td>Mortgage</td>\n",
              "      <td>13.0</td>\n",
              "      <td>Personal</td>\n",
              "      <td>B</td>\n",
              "      <td>2000.0</td>\n",
              "      <td>11.49</td>\n",
              "      <td>0.0</td>\n",
              "      <td>0.02</td>\n",
              "      <td>N</td>\n",
              "      <td>8</td>\n",
              "    </tr>\n",
              "    <tr>\n",
              "      <th>34481</th>\n",
              "      <td>TzkLiOab-Iksj</td>\n",
              "      <td>23.0</td>\n",
              "      <td>65000.0</td>\n",
              "      <td>Mortgage</td>\n",
              "      <td>3.0</td>\n",
              "      <td>Medical</td>\n",
              "      <td>A</td>\n",
              "      <td>7000.0</td>\n",
              "      <td>7.90</td>\n",
              "      <td>0.0</td>\n",
              "      <td>0.11</td>\n",
              "      <td>N</td>\n",
              "      <td>4</td>\n",
              "    </tr>\n",
              "    <tr>\n",
              "      <th>34482</th>\n",
              "      <td>zHG1040U-BAsd</td>\n",
              "      <td>26.0</td>\n",
              "      <td>54996.0</td>\n",
              "      <td>Rent</td>\n",
              "      <td>8.0</td>\n",
              "      <td>Education</td>\n",
              "      <td>B</td>\n",
              "      <td>20000.0</td>\n",
              "      <td>12.18</td>\n",
              "      <td>1.0</td>\n",
              "      <td>0.36</td>\n",
              "      <td>N</td>\n",
              "      <td>4</td>\n",
              "    </tr>\n",
              "    <tr>\n",
              "      <th>34483</th>\n",
              "      <td>mTc8nwE0-fkep</td>\n",
              "      <td>24.0</td>\n",
              "      <td>28590.0</td>\n",
              "      <td>Rent</td>\n",
              "      <td>7.0</td>\n",
              "      <td>Debtconsolidation</td>\n",
              "      <td>D</td>\n",
              "      <td>8000.0</td>\n",
              "      <td>15.65</td>\n",
              "      <td>1.0</td>\n",
              "      <td>0.28</td>\n",
              "      <td>Y</td>\n",
              "      <td>2</td>\n",
              "    </tr>\n",
              "    <tr>\n",
              "      <th>34484</th>\n",
              "      <td>NOns5K6J-tGx1</td>\n",
              "      <td>27.0</td>\n",
              "      <td>63500.0</td>\n",
              "      <td>Rent</td>\n",
              "      <td>3.0</td>\n",
              "      <td>Personal</td>\n",
              "      <td>B</td>\n",
              "      <td>4000.0</td>\n",
              "      <td>10.37</td>\n",
              "      <td>0.0</td>\n",
              "      <td>0.06</td>\n",
              "      <td>N</td>\n",
              "      <td>9</td>\n",
              "    </tr>\n",
              "  </tbody>\n",
              "</table>\n",
              "<p>34485 rows × 13 columns</p>\n",
              "</div>"
            ],
            "text/plain": [
              "           pessoa_id  idade  salario_anual situacao_moradia  \\\n",
              "0      1ZbMkM4F-9u8Y   32.0        77400.0         Mortgage   \n",
              "1      2Mbkmbsu-7foj    NaN        30000.0             Rent   \n",
              "2      283zsKkk-MN9S   23.0       108000.0         Mortgage   \n",
              "3      2KDiPOQQ-H7G5   32.0        80000.0             Rent   \n",
              "4      0PtiPv5h-nd0L   21.0        47580.0         Mortgage   \n",
              "...              ...    ...            ...              ...   \n",
              "34480  u2bFPCXN-KETS   29.0        91200.0         Mortgage   \n",
              "34481  TzkLiOab-Iksj   23.0        65000.0         Mortgage   \n",
              "34482  zHG1040U-BAsd   26.0        54996.0             Rent   \n",
              "34483  mTc8nwE0-fkep   24.0        28590.0             Rent   \n",
              "34484  NOns5K6J-tGx1   27.0        63500.0             Rent   \n",
              "\n",
              "       tempo_de_trabalho motivo_do_emprestimo pontuacao  valor_emprestimo  \\\n",
              "0                    0.0    Debtconsolidation         F           10000.0   \n",
              "1                    1.0             Personal         A            7200.0   \n",
              "2                    5.0    Debtconsolidation         D           10000.0   \n",
              "3                    0.0    Debtconsolidation         C            5000.0   \n",
              "4                    5.0            Education         A           14000.0   \n",
              "...                  ...                  ...       ...               ...   \n",
              "34480               13.0             Personal         B            2000.0   \n",
              "34481                3.0              Medical         A            7000.0   \n",
              "34482                8.0            Education         B           20000.0   \n",
              "34483                7.0    Debtconsolidation         D            8000.0   \n",
              "34484                3.0             Personal         B            4000.0   \n",
              "\n",
              "       taxa_de_juros  possibilidade_de_inadimplencia  renda_percentual  \\\n",
              "0              18.43                             1.0              0.13   \n",
              "1              17.58                             NaN              0.14   \n",
              "2                NaN                             1.0              0.09   \n",
              "3                NaN                             0.0              0.06   \n",
              "4               6.03                             0.0              0.29   \n",
              "...              ...                             ...               ...   \n",
              "34480          11.49                             0.0              0.02   \n",
              "34481           7.90                             0.0              0.11   \n",
              "34482          12.18                             1.0              0.36   \n",
              "34483          15.65                             1.0              0.28   \n",
              "34484          10.37                             0.0              0.06   \n",
              "\n",
              "      inadimplente  tempo_solicitacao  \n",
              "0                N                  6  \n",
              "1                Y                  2  \n",
              "2                Y                  2  \n",
              "3                N                  6  \n",
              "4                N                  2  \n",
              "...            ...                ...  \n",
              "34480            N                  8  \n",
              "34481            N                  4  \n",
              "34482            N                  4  \n",
              "34483            Y                  2  \n",
              "34484            N                  9  \n",
              "\n",
              "[34485 rows x 13 columns]"
            ]
          },
          "execution_count": 2,
          "metadata": {},
          "output_type": "execute_result"
        }
      ],
      "source": [
        "data= pd.read_csv('..\\DADOS\\DADOSJUNTOS.csv')\n",
        "data"
      ]
    },
    {
      "cell_type": "code",
      "execution_count": 3,
      "metadata": {
        "colab": {
          "base_uri": "https://localhost:8080/"
        },
        "execution": {
          "iopub.execute_input": "2022-09-15T14:05:20.691488Z",
          "iopub.status.busy": "2022-09-15T14:05:20.691048Z",
          "iopub.status.idle": "2022-09-15T14:05:20.698881Z",
          "shell.execute_reply": "2022-09-15T14:05:20.697894Z",
          "shell.execute_reply.started": "2022-09-15T14:05:20.691449Z"
        },
        "id": "z17GkIKNK05A",
        "outputId": "b07593ae-62d4-4b7f-f94a-b9fd61868cea"
      },
      "outputs": [
        {
          "data": {
            "text/plain": [
              "(34485, 13)"
            ]
          },
          "execution_count": 3,
          "metadata": {},
          "output_type": "execute_result"
        }
      ],
      "source": [
        "data.shape"
      ]
    },
    {
      "cell_type": "code",
      "execution_count": 4,
      "metadata": {
        "colab": {
          "base_uri": "https://localhost:8080/"
        },
        "execution": {
          "iopub.execute_input": "2022-09-15T14:05:21.235552Z",
          "iopub.status.busy": "2022-09-15T14:05:21.234636Z",
          "iopub.status.idle": "2022-09-15T14:05:21.261744Z",
          "shell.execute_reply": "2022-09-15T14:05:21.260495Z",
          "shell.execute_reply.started": "2022-09-15T14:05:21.235505Z"
        },
        "id": "r3Gf8MI3K05B",
        "outputId": "64859e23-a6b1-4ae0-e167-a53e7eb64f71"
      },
      "outputs": [
        {
          "name": "stdout",
          "output_type": "stream",
          "text": [
            "<class 'pandas.core.frame.DataFrame'>\n",
            "RangeIndex: 34485 entries, 0 to 34484\n",
            "Data columns (total 13 columns):\n",
            " #   Column                          Non-Null Count  Dtype  \n",
            "---  ------                          --------------  -----  \n",
            " 0   pessoa_id                       34485 non-null  object \n",
            " 1   idade                           34165 non-null  float64\n",
            " 2   salario_anual                   34150 non-null  float64\n",
            " 3   situacao_moradia                34154 non-null  object \n",
            " 4   tempo_de_trabalho               33231 non-null  float64\n",
            " 5   motivo_do_emprestimo            34174 non-null  object \n",
            " 6   pontuacao                       34176 non-null  object \n",
            " 7   valor_emprestimo                34154 non-null  float64\n",
            " 8   taxa_de_juros                   30859 non-null  float64\n",
            " 9   possibilidade_de_inadimplencia  34142 non-null  float64\n",
            " 10  renda_percentual                34170 non-null  float64\n",
            " 11  inadimplente                    34119 non-null  object \n",
            " 12  tempo_solicitacao               34485 non-null  int64  \n",
            "dtypes: float64(7), int64(1), object(5)\n",
            "memory usage: 3.4+ MB\n"
          ]
        }
      ],
      "source": [
        "data.info()"
      ]
    },
    {
      "cell_type": "markdown",
      "metadata": {
        "id": "BzsFaAc1K05E"
      },
      "source": [
        "Há muitos dados nulos, e a melhor opção seria preenchê-los"
      ]
    },
    {
      "cell_type": "code",
      "execution_count": 5,
      "metadata": {
        "colab": {
          "base_uri": "https://localhost:8080/"
        },
        "execution": {
          "iopub.execute_input": "2022-09-15T14:05:22.573197Z",
          "iopub.status.busy": "2022-09-15T14:05:22.572515Z",
          "iopub.status.idle": "2022-09-15T14:05:22.580613Z",
          "shell.execute_reply": "2022-09-15T14:05:22.579270Z",
          "shell.execute_reply.started": "2022-09-15T14:05:22.573158Z"
        },
        "id": "xyk8LkLOK05K",
        "outputId": "6720cefc-03f1-42be-9c32-2b2b2c734640"
      },
      "outputs": [
        {
          "data": {
            "text/plain": [
              "Index(['pessoa_id', 'idade', 'salario_anual', 'situacao_moradia',\n",
              "       'tempo_de_trabalho', 'motivo_do_emprestimo', 'pontuacao',\n",
              "       'valor_emprestimo', 'taxa_de_juros', 'possibilidade_de_inadimplencia',\n",
              "       'renda_percentual', 'inadimplente', 'tempo_solicitacao'],\n",
              "      dtype='object')"
            ]
          },
          "execution_count": 5,
          "metadata": {},
          "output_type": "execute_result"
        }
      ],
      "source": [
        "data.columns\n"
      ]
    },
    {
      "cell_type": "markdown",
      "metadata": {
        "id": "6eNmceSMK05P"
      },
      "source": [
        "# Tratamento de dados **nulos** ou em **branco**"
      ]
    },
    {
      "cell_type": "code",
      "execution_count": 6,
      "metadata": {
        "execution": {
          "iopub.execute_input": "2022-09-15T14:05:24.348339Z",
          "iopub.status.busy": "2022-09-15T14:05:24.347201Z",
          "iopub.status.idle": "2022-09-15T14:05:24.365670Z",
          "shell.execute_reply": "2022-09-15T14:05:24.364335Z",
          "shell.execute_reply.started": "2022-09-15T14:05:24.348289Z"
        },
        "id": "eYvDOj7SK05R"
      },
      "outputs": [],
      "source": [
        "lista = ['idade', 'salario_anual','tempo_de_trabalho', 'taxa_de_juros',\n",
        "         'possibilidade_de_inadimplencia','valor_emprestimo','tempo_solicitacao', 'renda_percentual']\n",
        "\n",
        "for i in lista:\n",
        "    data[i].fillna(data[i].median(), inplace=True)\n"
      ]
    },
    {
      "cell_type": "code",
      "execution_count": 7,
      "metadata": {
        "execution": {
          "iopub.execute_input": "2022-09-15T14:05:25.058618Z",
          "iopub.status.busy": "2022-09-15T14:05:25.058199Z",
          "iopub.status.idle": "2022-09-15T14:05:25.071643Z",
          "shell.execute_reply": "2022-09-15T14:05:25.070227Z",
          "shell.execute_reply.started": "2022-09-15T14:05:25.058578Z"
        },
        "id": "nILR_nlkK05T"
      },
      "outputs": [],
      "source": [
        "lista = ['motivo_do_emprestimo', 'pontuacao']\n",
        "\n",
        "for i in lista:\n",
        "    data[i].fillna('', inplace=True)\n"
      ]
    },
    {
      "cell_type": "code",
      "execution_count": 8,
      "metadata": {
        "execution": {
          "iopub.execute_input": "2022-09-15T14:05:25.853763Z",
          "iopub.status.busy": "2022-09-15T14:05:25.853014Z",
          "iopub.status.idle": "2022-09-15T14:05:25.877914Z",
          "shell.execute_reply": "2022-09-15T14:05:25.876660Z",
          "shell.execute_reply.started": "2022-09-15T14:05:25.853713Z"
        },
        "id": "wkkdbEOXK05V"
      },
      "outputs": [],
      "source": [
        "data['situacao_moradia'].fillna('', inplace = True)\n",
        "index = data.query(\"situacao_moradia == ''\").index\n",
        "data.drop(index = index, inplace = True)"
      ]
    },
    {
      "cell_type": "code",
      "execution_count": 9,
      "metadata": {
        "id": "A6SpxmLTevDV"
      },
      "outputs": [],
      "source": [
        "map={'N': 0, 'Y':1}\n",
        "data.inadimplente= data.inadimplente.map(map)"
      ]
    },
    {
      "cell_type": "code",
      "execution_count": 10,
      "metadata": {
        "colab": {
          "base_uri": "https://localhost:8080/",
          "height": 357
        },
        "id": "BIaROi05Q7UC",
        "outputId": "9a56d4b8-7eee-4302-b0d4-525435f6bb07"
      },
      "outputs": [
        {
          "data": {
            "text/html": [
              "<div>\n",
              "<style scoped>\n",
              "    .dataframe tbody tr th:only-of-type {\n",
              "        vertical-align: middle;\n",
              "    }\n",
              "\n",
              "    .dataframe tbody tr th {\n",
              "        vertical-align: top;\n",
              "    }\n",
              "\n",
              "    .dataframe thead th {\n",
              "        text-align: right;\n",
              "    }\n",
              "</style>\n",
              "<table border=\"1\" class=\"dataframe\">\n",
              "  <thead>\n",
              "    <tr style=\"text-align: right;\">\n",
              "      <th></th>\n",
              "      <th>pessoa_id</th>\n",
              "      <th>idade</th>\n",
              "      <th>salario_anual</th>\n",
              "      <th>situacao_moradia</th>\n",
              "      <th>tempo_de_trabalho</th>\n",
              "      <th>motivo_do_emprestimo</th>\n",
              "      <th>pontuacao</th>\n",
              "      <th>valor_emprestimo</th>\n",
              "      <th>taxa_de_juros</th>\n",
              "      <th>possibilidade_de_inadimplencia</th>\n",
              "      <th>renda_percentual</th>\n",
              "      <th>inadimplente</th>\n",
              "      <th>tempo_solicitacao</th>\n",
              "    </tr>\n",
              "  </thead>\n",
              "  <tbody>\n",
              "    <tr>\n",
              "      <th>0</th>\n",
              "      <td>1ZbMkM4F-9u8Y</td>\n",
              "      <td>32.0</td>\n",
              "      <td>77400.0</td>\n",
              "      <td>Mortgage</td>\n",
              "      <td>0.0</td>\n",
              "      <td>Debtconsolidation</td>\n",
              "      <td>F</td>\n",
              "      <td>10000.0</td>\n",
              "      <td>18.43</td>\n",
              "      <td>1.0</td>\n",
              "      <td>0.13</td>\n",
              "      <td>0.0</td>\n",
              "      <td>6</td>\n",
              "    </tr>\n",
              "    <tr>\n",
              "      <th>1</th>\n",
              "      <td>2Mbkmbsu-7foj</td>\n",
              "      <td>26.0</td>\n",
              "      <td>30000.0</td>\n",
              "      <td>Rent</td>\n",
              "      <td>1.0</td>\n",
              "      <td>Personal</td>\n",
              "      <td>A</td>\n",
              "      <td>7200.0</td>\n",
              "      <td>17.58</td>\n",
              "      <td>0.0</td>\n",
              "      <td>0.14</td>\n",
              "      <td>1.0</td>\n",
              "      <td>2</td>\n",
              "    </tr>\n",
              "    <tr>\n",
              "      <th>2</th>\n",
              "      <td>283zsKkk-MN9S</td>\n",
              "      <td>23.0</td>\n",
              "      <td>108000.0</td>\n",
              "      <td>Mortgage</td>\n",
              "      <td>5.0</td>\n",
              "      <td>Debtconsolidation</td>\n",
              "      <td>D</td>\n",
              "      <td>10000.0</td>\n",
              "      <td>10.99</td>\n",
              "      <td>1.0</td>\n",
              "      <td>0.09</td>\n",
              "      <td>1.0</td>\n",
              "      <td>2</td>\n",
              "    </tr>\n",
              "    <tr>\n",
              "      <th>3</th>\n",
              "      <td>2KDiPOQQ-H7G5</td>\n",
              "      <td>32.0</td>\n",
              "      <td>80000.0</td>\n",
              "      <td>Rent</td>\n",
              "      <td>0.0</td>\n",
              "      <td>Debtconsolidation</td>\n",
              "      <td>C</td>\n",
              "      <td>5000.0</td>\n",
              "      <td>10.99</td>\n",
              "      <td>0.0</td>\n",
              "      <td>0.06</td>\n",
              "      <td>0.0</td>\n",
              "      <td>6</td>\n",
              "    </tr>\n",
              "    <tr>\n",
              "      <th>4</th>\n",
              "      <td>0PtiPv5h-nd0L</td>\n",
              "      <td>21.0</td>\n",
              "      <td>47580.0</td>\n",
              "      <td>Mortgage</td>\n",
              "      <td>5.0</td>\n",
              "      <td>Education</td>\n",
              "      <td>A</td>\n",
              "      <td>14000.0</td>\n",
              "      <td>6.03</td>\n",
              "      <td>0.0</td>\n",
              "      <td>0.29</td>\n",
              "      <td>0.0</td>\n",
              "      <td>2</td>\n",
              "    </tr>\n",
              "  </tbody>\n",
              "</table>\n",
              "</div>"
            ],
            "text/plain": [
              "       pessoa_id  idade  salario_anual situacao_moradia  tempo_de_trabalho  \\\n",
              "0  1ZbMkM4F-9u8Y   32.0        77400.0         Mortgage                0.0   \n",
              "1  2Mbkmbsu-7foj   26.0        30000.0             Rent                1.0   \n",
              "2  283zsKkk-MN9S   23.0       108000.0         Mortgage                5.0   \n",
              "3  2KDiPOQQ-H7G5   32.0        80000.0             Rent                0.0   \n",
              "4  0PtiPv5h-nd0L   21.0        47580.0         Mortgage                5.0   \n",
              "\n",
              "  motivo_do_emprestimo pontuacao  valor_emprestimo  taxa_de_juros  \\\n",
              "0    Debtconsolidation         F           10000.0          18.43   \n",
              "1             Personal         A            7200.0          17.58   \n",
              "2    Debtconsolidation         D           10000.0          10.99   \n",
              "3    Debtconsolidation         C            5000.0          10.99   \n",
              "4            Education         A           14000.0           6.03   \n",
              "\n",
              "   possibilidade_de_inadimplencia  renda_percentual  inadimplente  \\\n",
              "0                             1.0              0.13           0.0   \n",
              "1                             0.0              0.14           1.0   \n",
              "2                             1.0              0.09           1.0   \n",
              "3                             0.0              0.06           0.0   \n",
              "4                             0.0              0.29           0.0   \n",
              "\n",
              "   tempo_solicitacao  \n",
              "0                  6  \n",
              "1                  2  \n",
              "2                  2  \n",
              "3                  6  \n",
              "4                  2  "
            ]
          },
          "execution_count": 10,
          "metadata": {},
          "output_type": "execute_result"
        }
      ],
      "source": [
        "data.head()"
      ]
    },
    {
      "cell_type": "markdown",
      "metadata": {
        "id": "5oJ2YDH5K055"
      },
      "source": [
        "# Remoção de dados nulos"
      ]
    },
    {
      "cell_type": "code",
      "execution_count": 11,
      "metadata": {
        "execution": {
          "iopub.execute_input": "2022-09-15T14:07:45.365966Z",
          "iopub.status.busy": "2022-09-15T14:07:45.365525Z",
          "iopub.status.idle": "2022-09-15T14:07:45.375453Z",
          "shell.execute_reply": "2022-09-15T14:07:45.374287Z",
          "shell.execute_reply.started": "2022-09-15T14:07:45.365928Z"
        },
        "id": "-PghWZXvK052"
      },
      "outputs": [],
      "source": [
        "data.drop(['pessoa_id'],inplace=True,axis=1)"
      ]
    },
    {
      "cell_type": "code",
      "execution_count": 12,
      "metadata": {
        "colab": {
          "base_uri": "https://localhost:8080/"
        },
        "id": "mBk09_LtXeZ-",
        "outputId": "725cb9d7-e00a-48fd-a829-3e8a17bb2c53"
      },
      "outputs": [
        {
          "data": {
            "text/plain": [
              "idade                               0\n",
              "salario_anual                       0\n",
              "situacao_moradia                    0\n",
              "tempo_de_trabalho                   0\n",
              "motivo_do_emprestimo                0\n",
              "pontuacao                           0\n",
              "valor_emprestimo                    0\n",
              "taxa_de_juros                       0\n",
              "possibilidade_de_inadimplencia      0\n",
              "renda_percentual                    0\n",
              "inadimplente                      334\n",
              "tempo_solicitacao                   0\n",
              "dtype: int64"
            ]
          },
          "execution_count": 12,
          "metadata": {},
          "output_type": "execute_result"
        }
      ],
      "source": [
        "data.isnull().sum()\n"
      ]
    },
    {
      "cell_type": "code",
      "execution_count": 13,
      "metadata": {
        "id": "LW0zqnpGXzYe"
      },
      "outputs": [],
      "source": [
        "data.dropna(inplace = True)"
      ]
    },
    {
      "cell_type": "code",
      "execution_count": 14,
      "metadata": {
        "colab": {
          "base_uri": "https://localhost:8080/",
          "height": 270
        },
        "id": "f_q-wdltXt3e",
        "outputId": "511dea16-d3e9-477e-b372-6811099853d0"
      },
      "outputs": [
        {
          "data": {
            "text/html": [
              "<div>\n",
              "<style scoped>\n",
              "    .dataframe tbody tr th:only-of-type {\n",
              "        vertical-align: middle;\n",
              "    }\n",
              "\n",
              "    .dataframe tbody tr th {\n",
              "        vertical-align: top;\n",
              "    }\n",
              "\n",
              "    .dataframe thead th {\n",
              "        text-align: right;\n",
              "    }\n",
              "</style>\n",
              "<table border=\"1\" class=\"dataframe\">\n",
              "  <thead>\n",
              "    <tr style=\"text-align: right;\">\n",
              "      <th></th>\n",
              "      <th>idade</th>\n",
              "      <th>salario_anual</th>\n",
              "      <th>situacao_moradia</th>\n",
              "      <th>tempo_de_trabalho</th>\n",
              "      <th>motivo_do_emprestimo</th>\n",
              "      <th>pontuacao</th>\n",
              "      <th>valor_emprestimo</th>\n",
              "      <th>taxa_de_juros</th>\n",
              "      <th>possibilidade_de_inadimplencia</th>\n",
              "      <th>renda_percentual</th>\n",
              "      <th>inadimplente</th>\n",
              "      <th>tempo_solicitacao</th>\n",
              "    </tr>\n",
              "  </thead>\n",
              "  <tbody>\n",
              "    <tr>\n",
              "      <th>0</th>\n",
              "      <td>32.0</td>\n",
              "      <td>77400.0</td>\n",
              "      <td>Mortgage</td>\n",
              "      <td>0.0</td>\n",
              "      <td>Debtconsolidation</td>\n",
              "      <td>F</td>\n",
              "      <td>10000.0</td>\n",
              "      <td>18.43</td>\n",
              "      <td>1.0</td>\n",
              "      <td>0.13</td>\n",
              "      <td>0.0</td>\n",
              "      <td>6</td>\n",
              "    </tr>\n",
              "    <tr>\n",
              "      <th>1</th>\n",
              "      <td>26.0</td>\n",
              "      <td>30000.0</td>\n",
              "      <td>Rent</td>\n",
              "      <td>1.0</td>\n",
              "      <td>Personal</td>\n",
              "      <td>A</td>\n",
              "      <td>7200.0</td>\n",
              "      <td>17.58</td>\n",
              "      <td>0.0</td>\n",
              "      <td>0.14</td>\n",
              "      <td>1.0</td>\n",
              "      <td>2</td>\n",
              "    </tr>\n",
              "    <tr>\n",
              "      <th>2</th>\n",
              "      <td>23.0</td>\n",
              "      <td>108000.0</td>\n",
              "      <td>Mortgage</td>\n",
              "      <td>5.0</td>\n",
              "      <td>Debtconsolidation</td>\n",
              "      <td>D</td>\n",
              "      <td>10000.0</td>\n",
              "      <td>10.99</td>\n",
              "      <td>1.0</td>\n",
              "      <td>0.09</td>\n",
              "      <td>1.0</td>\n",
              "      <td>2</td>\n",
              "    </tr>\n",
              "    <tr>\n",
              "      <th>3</th>\n",
              "      <td>32.0</td>\n",
              "      <td>80000.0</td>\n",
              "      <td>Rent</td>\n",
              "      <td>0.0</td>\n",
              "      <td>Debtconsolidation</td>\n",
              "      <td>C</td>\n",
              "      <td>5000.0</td>\n",
              "      <td>10.99</td>\n",
              "      <td>0.0</td>\n",
              "      <td>0.06</td>\n",
              "      <td>0.0</td>\n",
              "      <td>6</td>\n",
              "    </tr>\n",
              "    <tr>\n",
              "      <th>4</th>\n",
              "      <td>21.0</td>\n",
              "      <td>47580.0</td>\n",
              "      <td>Mortgage</td>\n",
              "      <td>5.0</td>\n",
              "      <td>Education</td>\n",
              "      <td>A</td>\n",
              "      <td>14000.0</td>\n",
              "      <td>6.03</td>\n",
              "      <td>0.0</td>\n",
              "      <td>0.29</td>\n",
              "      <td>0.0</td>\n",
              "      <td>2</td>\n",
              "    </tr>\n",
              "  </tbody>\n",
              "</table>\n",
              "</div>"
            ],
            "text/plain": [
              "   idade  salario_anual situacao_moradia  tempo_de_trabalho  \\\n",
              "0   32.0        77400.0         Mortgage                0.0   \n",
              "1   26.0        30000.0             Rent                1.0   \n",
              "2   23.0       108000.0         Mortgage                5.0   \n",
              "3   32.0        80000.0             Rent                0.0   \n",
              "4   21.0        47580.0         Mortgage                5.0   \n",
              "\n",
              "  motivo_do_emprestimo pontuacao  valor_emprestimo  taxa_de_juros  \\\n",
              "0    Debtconsolidation         F           10000.0          18.43   \n",
              "1             Personal         A            7200.0          17.58   \n",
              "2    Debtconsolidation         D           10000.0          10.99   \n",
              "3    Debtconsolidation         C            5000.0          10.99   \n",
              "4            Education         A           14000.0           6.03   \n",
              "\n",
              "   possibilidade_de_inadimplencia  renda_percentual  inadimplente  \\\n",
              "0                             1.0              0.13           0.0   \n",
              "1                             0.0              0.14           1.0   \n",
              "2                             1.0              0.09           1.0   \n",
              "3                             0.0              0.06           0.0   \n",
              "4                             0.0              0.29           0.0   \n",
              "\n",
              "   tempo_solicitacao  \n",
              "0                  6  \n",
              "1                  2  \n",
              "2                  2  \n",
              "3                  6  \n",
              "4                  2  "
            ]
          },
          "execution_count": 14,
          "metadata": {},
          "output_type": "execute_result"
        }
      ],
      "source": [
        "data.head()"
      ]
    },
    {
      "cell_type": "markdown",
      "metadata": {
        "id": "U6xpBDBHK057"
      },
      "source": [
        "# Remoção dos outliers"
      ]
    },
    {
      "cell_type": "markdown",
      "metadata": {
        "id": "hZHj1KWAK056"
      },
      "source": [
        "### A variável **inadimplente** é a unica que possui nulos,porém por hora é melhor deixa-la de lado"
      ]
    },
    {
      "cell_type": "markdown",
      "metadata": {
        "id": "mFmuc5_jK05-"
      },
      "source": [
        " as variáveis salario_anual,idade e tempo_de_trabalho são aquelas que mais possuem outiliers relevantes no dataframe"
      ]
    },
    {
      "cell_type": "code",
      "execution_count": 15,
      "metadata": {
        "colab": {
          "base_uri": "https://localhost:8080/",
          "height": 319
        },
        "execution": {
          "iopub.execute_input": "2022-09-15T14:05:33.499470Z",
          "iopub.status.busy": "2022-09-15T14:05:33.499015Z",
          "iopub.status.idle": "2022-09-15T14:05:33.771744Z",
          "shell.execute_reply": "2022-09-15T14:05:33.770649Z",
          "shell.execute_reply.started": "2022-09-15T14:05:33.499427Z"
        },
        "id": "0UcLlbxHK05_",
        "outputId": "05a8b5a6-510b-4f3f-9a43-6bb95e3d4b6d"
      },
      "outputs": [
        {
          "data": {
            "text/plain": [
              "Text(0.5, 1.0, 'Box plot com dados com outiliers')"
            ]
          },
          "execution_count": 15,
          "metadata": {},
          "output_type": "execute_result"
        },
        {
          "data": {
            "image/png": "[encoded data removed]",
            "text/plain": [
              "<Figure size 640x480 with 1 Axes>"
            ]
          },
          "metadata": {},
          "output_type": "display_data"
        }
      ],
      "source": [
        "sns.set_theme(style=\"darkgrid\")\n",
        "sns.boxplot(x=data.salario_anual)\n",
        "plt.title('Box plot com dados com outiliers')"
      ]
    },
    {
      "cell_type": "code",
      "execution_count": 16,
      "metadata": {
        "colab": {
          "base_uri": "https://localhost:8080/",
          "height": 319
        },
        "execution": {
          "iopub.execute_input": "2022-09-15T14:05:34.017255Z",
          "iopub.status.busy": "2022-09-15T14:05:34.016848Z",
          "iopub.status.idle": "2022-09-15T14:05:34.528950Z",
          "shell.execute_reply": "2022-09-15T14:05:34.527890Z",
          "shell.execute_reply.started": "2022-09-15T14:05:34.017222Z"
        },
        "id": "5_ng9YR-K06A",
        "outputId": "5369e1fc-9128-47d2-dbb4-923582ac1913"
      },
      "outputs": [
        {
          "data": {
            "text/plain": [
              "Text(0.5, 1.0, 'Box plot com dados com outiliers')"
            ]
          },
          "execution_count": 16,
          "metadata": {},
          "output_type": "execute_result"
        },
        {
          "data": {
            "image/png": "[encoded data removed]",
            "text/plain": [
              "<Figure size 640x480 with 1 Axes>"
            ]
          },
          "metadata": {},
          "output_type": "display_data"
        }
      ],
      "source": [
        "sns.boxplot(x=data.idade)\n",
        "plt.title('Box plot com dados com outiliers')"
      ]
    },
    {
      "cell_type": "code",
      "execution_count": 17,
      "metadata": {
        "colab": {
          "base_uri": "https://localhost:8080/",
          "height": 319
        },
        "execution": {
          "iopub.execute_input": "2022-09-15T14:05:34.532236Z",
          "iopub.status.busy": "2022-09-15T14:05:34.530945Z",
          "iopub.status.idle": "2022-09-15T14:05:34.796714Z",
          "shell.execute_reply": "2022-09-15T14:05:34.795552Z",
          "shell.execute_reply.started": "2022-09-15T14:05:34.532180Z"
        },
        "id": "VnorQnjBK06B",
        "outputId": "1d7ed3b0-91fb-48c3-a868-1a3427babeb7"
      },
      "outputs": [
        {
          "data": {
            "text/plain": [
              "Text(0.5, 1.0, 'Box plot com dados com outiliers')"
            ]
          },
          "execution_count": 17,
          "metadata": {},
          "output_type": "execute_result"
        },
        {
          "data": {
            "image/png": "[encoded data removed]",
            "text/plain": [
              "<Figure size 640x480 with 1 Axes>"
            ]
          },
          "metadata": {},
          "output_type": "display_data"
        }
      ],
      "source": [
        "sns.boxplot(x=data.tempo_de_trabalho)\n",
        "plt.title('Box plot com dados com outiliers')"
      ]
    },
    {
      "cell_type": "code",
      "execution_count": 18,
      "metadata": {
        "id": "SH3qsgzKduyt"
      },
      "outputs": [],
      "source": [
        "data.reset_index(drop=True,inplace=True)"
      ]
    },
    {
      "cell_type": "code",
      "execution_count": 19,
      "metadata": {
        "execution": {
          "iopub.execute_input": "2022-09-15T14:05:35.450005Z",
          "iopub.status.busy": "2022-09-15T14:05:35.449378Z",
          "iopub.status.idle": "2022-09-15T14:05:35.460688Z",
          "shell.execute_reply": "2022-09-15T14:05:35.459633Z",
          "shell.execute_reply.started": "2022-09-15T14:05:35.449968Z"
        },
        "id": "Osc2kWz5K06D"
      },
      "outputs": [],
      "source": [
        "lista1=list(data.query(\"idade>=100\").index)"
      ]
    },
    {
      "cell_type": "code",
      "execution_count": 20,
      "metadata": {
        "execution": {
          "iopub.execute_input": "2022-09-15T14:05:35.915576Z",
          "iopub.status.busy": "2022-09-15T14:05:35.914916Z",
          "iopub.status.idle": "2022-09-15T14:05:35.928009Z",
          "shell.execute_reply": "2022-09-15T14:05:35.926781Z",
          "shell.execute_reply.started": "2022-09-15T14:05:35.915537Z"
        },
        "id": "5q9mVEFnK06E"
      },
      "outputs": [],
      "source": [
        "lista2=list(data.query(\"tempo_de_trabalho>=100\").index)\n"
      ]
    },
    {
      "cell_type": "code",
      "execution_count": 21,
      "metadata": {
        "execution": {
          "iopub.execute_input": "2022-09-15T14:05:36.370608Z",
          "iopub.status.busy": "2022-09-15T14:05:36.369817Z",
          "iopub.status.idle": "2022-09-15T14:05:36.381846Z",
          "shell.execute_reply": "2022-09-15T14:05:36.380872Z",
          "shell.execute_reply.started": "2022-09-15T14:05:36.370567Z"
        },
        "id": "1NaV0BuvK06F"
      },
      "outputs": [],
      "source": [
        "lista3=list(data.query(\"salario_anual>=800000\").index)"
      ]
    },
    {
      "cell_type": "code",
      "execution_count": 22,
      "metadata": {
        "id": "C5VOzvnccz4k"
      },
      "outputs": [],
      "source": [
        "for i in [lista1,lista2,lista3]:\n",
        "  data.drop(i,inplace=True,errors='ignore')"
      ]
    },
    {
      "cell_type": "code",
      "execution_count": 23,
      "metadata": {
        "execution": {
          "iopub.execute_input": "2022-09-15T14:05:37.630638Z",
          "iopub.status.busy": "2022-09-15T14:05:37.629892Z",
          "iopub.status.idle": "2022-09-15T14:05:37.640830Z",
          "shell.execute_reply": "2022-09-15T14:05:37.639378Z",
          "shell.execute_reply.started": "2022-09-15T14:05:37.630573Z"
        },
        "id": "GFzVuqwMK06J"
      },
      "outputs": [],
      "source": [
        "data.reset_index(drop=True,inplace=True)"
      ]
    },
    {
      "cell_type": "code",
      "execution_count": 24,
      "metadata": {
        "colab": {
          "base_uri": "https://localhost:8080/",
          "height": 337
        },
        "execution": {
          "iopub.execute_input": "2022-09-15T14:05:38.048016Z",
          "iopub.status.busy": "2022-09-15T14:05:38.047417Z",
          "iopub.status.idle": "2022-09-15T14:05:38.331871Z",
          "shell.execute_reply": "2022-09-15T14:05:38.330473Z",
          "shell.execute_reply.started": "2022-09-15T14:05:38.047981Z"
        },
        "id": "GBy0F9xSK06K",
        "outputId": "0fac3bef-be58-4463-9087-970bcf9cb490"
      },
      "outputs": [
        {
          "data": {
            "text/plain": [
              "<Figure size 1000x1200 with 0 Axes>"
            ]
          },
          "execution_count": 24,
          "metadata": {},
          "output_type": "execute_result"
        },
        {
          "data": {
            "image/png": "[encoded data removed]",
            "text/plain": [
              "<Figure size 640x480 with 1 Axes>"
            ]
          },
          "metadata": {},
          "output_type": "display_data"
        },
        {
          "data": {
            "text/plain": [
              "<Figure size 1000x1200 with 0 Axes>"
            ]
          },
          "metadata": {},
          "output_type": "display_data"
        }
      ],
      "source": [
        "sns.boxplot(x=data.salario_anual)\n",
        "plt.title('Box plot com dados sem outiliers')\n",
        "plt.figure(figsize=(10,12))"
      ]
    },
    {
      "cell_type": "code",
      "execution_count": 25,
      "metadata": {
        "colab": {
          "base_uri": "https://localhost:8080/",
          "height": 319
        },
        "execution": {
          "iopub.execute_input": "2022-09-15T14:05:38.600060Z",
          "iopub.status.busy": "2022-09-15T14:05:38.599680Z",
          "iopub.status.idle": "2022-09-15T14:05:38.804002Z",
          "shell.execute_reply": "2022-09-15T14:05:38.802531Z",
          "shell.execute_reply.started": "2022-09-15T14:05:38.600028Z"
        },
        "id": "UEtv6CrhK06M",
        "outputId": "61eb6979-fccc-4624-9f5d-ddaf005eb4eb"
      },
      "outputs": [
        {
          "data": {
            "text/plain": [
              "Text(0.5, 1.0, 'Box plot com dados sem outiliers')"
            ]
          },
          "execution_count": 25,
          "metadata": {},
          "output_type": "execute_result"
        },
        {
          "data": {
            "image/png": "[encoded data removed]",
            "text/plain": [
              "<Figure size 640x480 with 1 Axes>"
            ]
          },
          "metadata": {},
          "output_type": "display_data"
        }
      ],
      "source": [
        "sns.boxplot(x=data.tempo_de_trabalho)\n",
        "plt.title('Box plot com dados sem outiliers')"
      ]
    },
    {
      "cell_type": "code",
      "execution_count": 26,
      "metadata": {
        "colab": {
          "base_uri": "https://localhost:8080/",
          "height": 319
        },
        "execution": {
          "iopub.execute_input": "2022-09-15T14:05:39.090505Z",
          "iopub.status.busy": "2022-09-15T14:05:39.090041Z",
          "iopub.status.idle": "2022-09-15T14:05:39.272758Z",
          "shell.execute_reply": "2022-09-15T14:05:39.271586Z",
          "shell.execute_reply.started": "2022-09-15T14:05:39.090466Z"
        },
        "id": "2VG4KEvjK06V",
        "outputId": "70daa5c2-3afd-44ce-86e0-5d4de07b925a"
      },
      "outputs": [
        {
          "data": {
            "text/plain": [
              "Text(0.5, 1.0, 'Box plot com dados sem outiliers')"
            ]
          },
          "execution_count": 26,
          "metadata": {},
          "output_type": "execute_result"
        },
        {
          "data": {
            "image/png": "[encoded data removed]",
            "text/plain": [
              "<Figure size 640x480 with 1 Axes>"
            ]
          },
          "metadata": {},
          "output_type": "display_data"
        }
      ],
      "source": [
        "sns.boxplot(x=data.tempo_de_trabalho)\n",
        "plt.title('Box plot com dados sem outiliers')"
      ]
    },
    {
      "cell_type": "markdown",
      "metadata": {
        "id": "SrTWxl2-K06d"
      },
      "source": [
        "Correlação e normalização dos dados"
      ]
    },
    {
      "cell_type": "code",
      "execution_count": 27,
      "metadata": {
        "colab": {
          "base_uri": "https://localhost:8080/",
          "height": 395
        },
        "execution": {
          "iopub.execute_input": "2022-09-15T14:05:40.435302Z",
          "iopub.status.busy": "2022-09-15T14:05:40.434903Z",
          "iopub.status.idle": "2022-09-15T14:05:40.473224Z",
          "shell.execute_reply": "2022-09-15T14:05:40.472232Z",
          "shell.execute_reply.started": "2022-09-15T14:05:40.435269Z"
        },
        "id": "iNLoGmuZK06f",
        "outputId": "2d5f6cbc-8b8e-4316-f70f-a30cb5f9f741"
      },
      "outputs": [
        {
          "data": {
            "text/html": [
              "<div>\n",
              "<style scoped>\n",
              "    .dataframe tbody tr th:only-of-type {\n",
              "        vertical-align: middle;\n",
              "    }\n",
              "\n",
              "    .dataframe tbody tr th {\n",
              "        vertical-align: top;\n",
              "    }\n",
              "\n",
              "    .dataframe thead th {\n",
              "        text-align: right;\n",
              "    }\n",
              "</style>\n",
              "<table border=\"1\" class=\"dataframe\">\n",
              "  <thead>\n",
              "    <tr style=\"text-align: right;\">\n",
              "      <th></th>\n",
              "      <th>idade</th>\n",
              "      <th>salario_anual</th>\n",
              "      <th>tempo_de_trabalho</th>\n",
              "      <th>valor_emprestimo</th>\n",
              "      <th>taxa_de_juros</th>\n",
              "      <th>possibilidade_de_inadimplencia</th>\n",
              "      <th>renda_percentual</th>\n",
              "      <th>inadimplente</th>\n",
              "      <th>tempo_solicitacao</th>\n",
              "    </tr>\n",
              "  </thead>\n",
              "  <tbody>\n",
              "    <tr>\n",
              "      <th>idade</th>\n",
              "      <td>1.000000</td>\n",
              "      <td>0.129043</td>\n",
              "      <td>0.167879</td>\n",
              "      <td>0.048057</td>\n",
              "      <td>0.011381</td>\n",
              "      <td>-0.019650</td>\n",
              "      <td>-0.039151</td>\n",
              "      <td>0.007735</td>\n",
              "      <td>0.846379</td>\n",
              "    </tr>\n",
              "    <tr>\n",
              "      <th>salario_anual</th>\n",
              "      <td>0.129043</td>\n",
              "      <td>1.000000</td>\n",
              "      <td>0.169095</td>\n",
              "      <td>0.356679</td>\n",
              "      <td>0.000045</td>\n",
              "      <td>-0.182164</td>\n",
              "      <td>-0.314834</td>\n",
              "      <td>-0.003303</td>\n",
              "      <td>0.105451</td>\n",
              "    </tr>\n",
              "    <tr>\n",
              "      <th>tempo_de_trabalho</th>\n",
              "      <td>0.167879</td>\n",
              "      <td>0.169095</td>\n",
              "      <td>1.000000</td>\n",
              "      <td>0.107297</td>\n",
              "      <td>-0.050887</td>\n",
              "      <td>-0.083567</td>\n",
              "      <td>-0.056685</td>\n",
              "      <td>-0.027550</td>\n",
              "      <td>0.141886</td>\n",
              "    </tr>\n",
              "    <tr>\n",
              "      <th>valor_emprestimo</th>\n",
              "      <td>0.048057</td>\n",
              "      <td>0.356679</td>\n",
              "      <td>0.107297</td>\n",
              "      <td>1.000000</td>\n",
              "      <td>0.139956</td>\n",
              "      <td>0.104002</td>\n",
              "      <td>0.569383</td>\n",
              "      <td>0.039936</td>\n",
              "      <td>0.042889</td>\n",
              "    </tr>\n",
              "    <tr>\n",
              "      <th>taxa_de_juros</th>\n",
              "      <td>0.011381</td>\n",
              "      <td>0.000045</td>\n",
              "      <td>-0.050887</td>\n",
              "      <td>0.139956</td>\n",
              "      <td>1.000000</td>\n",
              "      <td>0.316794</td>\n",
              "      <td>0.114335</td>\n",
              "      <td>0.475324</td>\n",
              "      <td>0.015050</td>\n",
              "    </tr>\n",
              "    <tr>\n",
              "      <th>possibilidade_de_inadimplencia</th>\n",
              "      <td>-0.019650</td>\n",
              "      <td>-0.182164</td>\n",
              "      <td>-0.083567</td>\n",
              "      <td>0.104002</td>\n",
              "      <td>0.316794</td>\n",
              "      <td>1.000000</td>\n",
              "      <td>0.375227</td>\n",
              "      <td>0.177236</td>\n",
              "      <td>-0.014981</td>\n",
              "    </tr>\n",
              "    <tr>\n",
              "      <th>renda_percentual</th>\n",
              "      <td>-0.039151</td>\n",
              "      <td>-0.314834</td>\n",
              "      <td>-0.056685</td>\n",
              "      <td>0.569383</td>\n",
              "      <td>0.114335</td>\n",
              "      <td>0.375227</td>\n",
              "      <td>1.000000</td>\n",
              "      <td>0.035477</td>\n",
              "      <td>-0.029821</td>\n",
              "    </tr>\n",
              "    <tr>\n",
              "      <th>inadimplente</th>\n",
              "      <td>0.007735</td>\n",
              "      <td>-0.003303</td>\n",
              "      <td>-0.027550</td>\n",
              "      <td>0.039936</td>\n",
              "      <td>0.475324</td>\n",
              "      <td>0.177236</td>\n",
              "      <td>0.035477</td>\n",
              "      <td>1.000000</td>\n",
              "      <td>0.005031</td>\n",
              "    </tr>\n",
              "    <tr>\n",
              "      <th>tempo_solicitacao</th>\n",
              "      <td>0.846379</td>\n",
              "      <td>0.105451</td>\n",
              "      <td>0.141886</td>\n",
              "      <td>0.042889</td>\n",
              "      <td>0.015050</td>\n",
              "      <td>-0.014981</td>\n",
              "      <td>-0.029821</td>\n",
              "      <td>0.005031</td>\n",
              "      <td>1.000000</td>\n",
              "    </tr>\n",
              "  </tbody>\n",
              "</table>\n",
              "</div>"
            ],
            "text/plain": [
              "                                   idade  salario_anual  tempo_de_trabalho  \\\n",
              "idade                           1.000000       0.129043           0.167879   \n",
              "salario_anual                   0.129043       1.000000           0.169095   \n",
              "tempo_de_trabalho               0.167879       0.169095           1.000000   \n",
              "valor_emprestimo                0.048057       0.356679           0.107297   \n",
              "taxa_de_juros                   0.011381       0.000045          -0.050887   \n",
              "possibilidade_de_inadimplencia -0.019650      -0.182164          -0.083567   \n",
              "renda_percentual               -0.039151      -0.314834          -0.056685   \n",
              "inadimplente                    0.007735      -0.003303          -0.027550   \n",
              "tempo_solicitacao               0.846379       0.105451           0.141886   \n",
              "\n",
              "                                valor_emprestimo  taxa_de_juros  \\\n",
              "idade                                   0.048057       0.011381   \n",
              "salario_anual                           0.356679       0.000045   \n",
              "tempo_de_trabalho                       0.107297      -0.050887   \n",
              "valor_emprestimo                        1.000000       0.139956   \n",
              "taxa_de_juros                           0.139956       1.000000   \n",
              "possibilidade_de_inadimplencia          0.104002       0.316794   \n",
              "renda_percentual                        0.569383       0.114335   \n",
              "inadimplente                            0.039936       0.475324   \n",
              "tempo_solicitacao                       0.042889       0.015050   \n",
              "\n",
              "                                possibilidade_de_inadimplencia  \\\n",
              "idade                                                -0.019650   \n",
              "salario_anual                                        -0.182164   \n",
              "tempo_de_trabalho                                    -0.083567   \n",
              "valor_emprestimo                                      0.104002   \n",
              "taxa_de_juros                                         0.316794   \n",
              "possibilidade_de_inadimplencia                        1.000000   \n",
              "renda_percentual                                      0.375227   \n",
              "inadimplente                                          0.177236   \n",
              "tempo_solicitacao                                    -0.014981   \n",
              "\n",
              "                                renda_percentual  inadimplente  \\\n",
              "idade                                  -0.039151      0.007735   \n",
              "salario_anual                          -0.314834     -0.003303   \n",
              "tempo_de_trabalho                      -0.056685     -0.027550   \n",
              "valor_emprestimo                        0.569383      0.039936   \n",
              "taxa_de_juros                           0.114335      0.475324   \n",
              "possibilidade_de_inadimplencia          0.375227      0.177236   \n",
              "renda_percentual                        1.000000      0.035477   \n",
              "inadimplente                            0.035477      1.000000   \n",
              "tempo_solicitacao                      -0.029821      0.005031   \n",
              "\n",
              "                                tempo_solicitacao  \n",
              "idade                                    0.846379  \n",
              "salario_anual                            0.105451  \n",
              "tempo_de_trabalho                        0.141886  \n",
              "valor_emprestimo                         0.042889  \n",
              "taxa_de_juros                            0.015050  \n",
              "possibilidade_de_inadimplencia          -0.014981  \n",
              "renda_percentual                        -0.029821  \n",
              "inadimplente                             0.005031  \n",
              "tempo_solicitacao                        1.000000  "
            ]
          },
          "execution_count": 27,
          "metadata": {},
          "output_type": "execute_result"
        }
      ],
      "source": [
        "data.corr()"
      ]
    },
    {
      "cell_type": "markdown",
      "metadata": {
        "id": "39PdXIpDK06g"
      },
      "source": [
        "Plot em heatmap"
      ]
    },
    {
      "cell_type": "code",
      "execution_count": 28,
      "metadata": {
        "colab": {
          "base_uri": "https://localhost:8080/",
          "height": 473
        },
        "execution": {
          "iopub.execute_input": "2022-09-15T14:08:12.811847Z",
          "iopub.status.busy": "2022-09-15T14:08:12.811386Z",
          "iopub.status.idle": "2022-09-15T14:08:13.313711Z",
          "shell.execute_reply": "2022-09-15T14:08:13.312492Z",
          "shell.execute_reply.started": "2022-09-15T14:08:12.811810Z"
        },
        "id": "kQYOobdeK06h",
        "outputId": "a1b4beef-08a8-4e8d-ee5b-293b2d0e48cc"
      },
      "outputs": [
        {
          "data": {
            "text/plain": [
              "<Figure size 1500x1500 with 0 Axes>"
            ]
          },
          "execution_count": 28,
          "metadata": {},
          "output_type": "execute_result"
        },
        {
          "data": {
            "image/png": "[encoded data removed]",
            "text/plain": [
              "<Figure size 640x480 with 2 Axes>"
            ]
          },
          "metadata": {},
          "output_type": "display_data"
        },
        {
          "data": {
            "text/plain": [
              "<Figure size 1500x1500 with 0 Axes>"
            ]
          },
          "metadata": {},
          "output_type": "display_data"
        }
      ],
      "source": [
        "sns.heatmap(data.corr(), vmin=0, vmax=1)\n",
        "plt.figure(figsize=(15,15))"
      ]
    },
    {
      "cell_type": "code",
      "execution_count": 29,
      "metadata": {
        "execution": {
          "iopub.execute_input": "2022-09-15T14:05:30.781747Z",
          "iopub.status.busy": "2022-09-15T14:05:30.781291Z",
          "iopub.status.idle": "2022-09-15T14:05:30.797364Z",
          "shell.execute_reply": "2022-09-15T14:05:30.795902Z",
          "shell.execute_reply.started": "2022-09-15T14:05:30.781709Z"
        },
        "id": "n6ICaXOWK054"
      },
      "outputs": [],
      "source": [
        "data.isnull().sum()\n",
        "data.dropna(inplace = True)"
      ]
    },
    {
      "cell_type": "code",
      "execution_count": 30,
      "metadata": {
        "colab": {
          "base_uri": "https://localhost:8080/"
        },
        "execution": {
          "iopub.execute_input": "2022-09-15T14:09:45.942490Z",
          "iopub.status.busy": "2022-09-15T14:09:45.941937Z",
          "iopub.status.idle": "2022-09-15T14:09:45.953621Z",
          "shell.execute_reply": "2022-09-15T14:09:45.952382Z",
          "shell.execute_reply.started": "2022-09-15T14:09:45.942439Z"
        },
        "id": "-N3tSsQ9K06i",
        "outputId": "6bd82031-08fa-4950-f81d-48efda707159"
      },
      "outputs": [
        {
          "data": {
            "text/plain": [
              "(33795, 1)"
            ]
          },
          "execution_count": 30,
          "metadata": {},
          "output_type": "execute_result"
        }
      ],
      "source": [
        "y = data[['inadimplente']]\n",
        "y.shape"
      ]
    },
    {
      "cell_type": "code",
      "execution_count": 31,
      "metadata": {
        "colab": {
          "base_uri": "https://localhost:8080/",
          "height": 488
        },
        "execution": {
          "iopub.execute_input": "2022-09-15T14:09:34.937323Z",
          "iopub.status.busy": "2022-09-15T14:09:34.936910Z",
          "iopub.status.idle": "2022-09-15T14:09:34.947244Z",
          "shell.execute_reply": "2022-09-15T14:09:34.946205Z",
          "shell.execute_reply.started": "2022-09-15T14:09:34.937289Z"
        },
        "id": "-NtExy5XK06i",
        "outputId": "894100ec-c177-4913-ac52-8e3603e5c2b9"
      },
      "outputs": [
        {
          "data": {
            "text/html": [
              "<div>\n",
              "<style scoped>\n",
              "    .dataframe tbody tr th:only-of-type {\n",
              "        vertical-align: middle;\n",
              "    }\n",
              "\n",
              "    .dataframe tbody tr th {\n",
              "        vertical-align: top;\n",
              "    }\n",
              "\n",
              "    .dataframe thead th {\n",
              "        text-align: right;\n",
              "    }\n",
              "</style>\n",
              "<table border=\"1\" class=\"dataframe\">\n",
              "  <thead>\n",
              "    <tr style=\"text-align: right;\">\n",
              "      <th></th>\n",
              "      <th>situacao_moradia</th>\n",
              "    </tr>\n",
              "  </thead>\n",
              "  <tbody>\n",
              "    <tr>\n",
              "      <th>0</th>\n",
              "      <td>Mortgage</td>\n",
              "    </tr>\n",
              "    <tr>\n",
              "      <th>1</th>\n",
              "      <td>Rent</td>\n",
              "    </tr>\n",
              "    <tr>\n",
              "      <th>2</th>\n",
              "      <td>Mortgage</td>\n",
              "    </tr>\n",
              "    <tr>\n",
              "      <th>3</th>\n",
              "      <td>Rent</td>\n",
              "    </tr>\n",
              "    <tr>\n",
              "      <th>4</th>\n",
              "      <td>Mortgage</td>\n",
              "    </tr>\n",
              "    <tr>\n",
              "      <th>...</th>\n",
              "      <td>...</td>\n",
              "    </tr>\n",
              "    <tr>\n",
              "      <th>33790</th>\n",
              "      <td>Mortgage</td>\n",
              "    </tr>\n",
              "    <tr>\n",
              "      <th>33791</th>\n",
              "      <td>Mortgage</td>\n",
              "    </tr>\n",
              "    <tr>\n",
              "      <th>33792</th>\n",
              "      <td>Rent</td>\n",
              "    </tr>\n",
              "    <tr>\n",
              "      <th>33793</th>\n",
              "      <td>Rent</td>\n",
              "    </tr>\n",
              "    <tr>\n",
              "      <th>33794</th>\n",
              "      <td>Rent</td>\n",
              "    </tr>\n",
              "  </tbody>\n",
              "</table>\n",
              "<p>33795 rows × 1 columns</p>\n",
              "</div>"
            ],
            "text/plain": [
              "      situacao_moradia\n",
              "0             Mortgage\n",
              "1                 Rent\n",
              "2             Mortgage\n",
              "3                 Rent\n",
              "4             Mortgage\n",
              "...                ...\n",
              "33790         Mortgage\n",
              "33791         Mortgage\n",
              "33792             Rent\n",
              "33793             Rent\n",
              "33794             Rent\n",
              "\n",
              "[33795 rows x 1 columns]"
            ]
          },
          "execution_count": 31,
          "metadata": {},
          "output_type": "execute_result"
        }
      ],
      "source": [
        "X=data.drop(['inadimplente'],axis=1)\n",
        "X.shape\n",
        "X[['situacao_moradia',]]"
      ]
    },
    {
      "cell_type": "markdown",
      "metadata": {
        "id": "ya59QETAK05Y"
      },
      "source": [
        "# Mapeamento dos dados,tranformando-os em variáveis quantitativas"
      ]
    },
    {
      "cell_type": "code",
      "execution_count": 32,
      "metadata": {},
      "outputs": [],
      "source": [
        "one_hot_enc=OneHotEncoder(handle_unknown='ignore',sparse=False)\n",
        "\n",
        "x = pd.DataFrame(one_hot_enc.fit_transform(X[['situacao_moradia','motivo_do_emprestimo','pontuacao']]).toarray())\n",
        "X= X.join(x)\n"
      ]
    },
    {
      "cell_type": "code",
      "execution_count": 33,
      "metadata": {},
      "outputs": [],
      "source": [
        "X.drop(['situacao_moradia','motivo_do_emprestimo','pontuacao'],inplace=True, axis =1)\n"
      ]
    },
    {
      "cell_type": "code",
      "execution_count": 35,
      "metadata": {},
      "outputs": [
        {
          "data": {
            "text/html": [
              "<div>\n",
              "<style scoped>\n",
              "    .dataframe tbody tr th:only-of-type {\n",
              "        vertical-align: middle;\n",
              "    }\n",
              "\n",
              "    .dataframe tbody tr th {\n",
              "        vertical-align: top;\n",
              "    }\n",
              "\n",
              "    .dataframe thead th {\n",
              "        text-align: right;\n",
              "    }\n",
              "</style>\n",
              "<table border=\"1\" class=\"dataframe\">\n",
              "  <thead>\n",
              "    <tr style=\"text-align: right;\">\n",
              "      <th></th>\n",
              "      <th>idade</th>\n",
              "      <th>salario_anual</th>\n",
              "      <th>tempo_de_trabalho</th>\n",
              "      <th>valor_emprestimo</th>\n",
              "      <th>taxa_de_juros</th>\n",
              "      <th>possibilidade_de_inadimplencia</th>\n",
              "      <th>renda_percentual</th>\n",
              "      <th>tempo_solicitacao</th>\n",
              "      <th>0</th>\n",
              "      <th>1</th>\n",
              "      <th>...</th>\n",
              "      <th>9</th>\n",
              "      <th>10</th>\n",
              "      <th>11</th>\n",
              "      <th>12</th>\n",
              "      <th>13</th>\n",
              "      <th>14</th>\n",
              "      <th>15</th>\n",
              "      <th>16</th>\n",
              "      <th>17</th>\n",
              "      <th>18</th>\n",
              "    </tr>\n",
              "  </thead>\n",
              "  <tbody>\n",
              "    <tr>\n",
              "      <th>0</th>\n",
              "      <td>32.0</td>\n",
              "      <td>77400.0</td>\n",
              "      <td>0.0</td>\n",
              "      <td>10000.0</td>\n",
              "      <td>18.43</td>\n",
              "      <td>1.0</td>\n",
              "      <td>0.13</td>\n",
              "      <td>6</td>\n",
              "      <td>1.0</td>\n",
              "      <td>0.0</td>\n",
              "      <td>...</td>\n",
              "      <td>0.0</td>\n",
              "      <td>0.0</td>\n",
              "      <td>0.0</td>\n",
              "      <td>0.0</td>\n",
              "      <td>0.0</td>\n",
              "      <td>0.0</td>\n",
              "      <td>0.0</td>\n",
              "      <td>0.0</td>\n",
              "      <td>1.0</td>\n",
              "      <td>0.0</td>\n",
              "    </tr>\n",
              "    <tr>\n",
              "      <th>1</th>\n",
              "      <td>26.0</td>\n",
              "      <td>30000.0</td>\n",
              "      <td>1.0</td>\n",
              "      <td>7200.0</td>\n",
              "      <td>17.58</td>\n",
              "      <td>0.0</td>\n",
              "      <td>0.14</td>\n",
              "      <td>2</td>\n",
              "      <td>0.0</td>\n",
              "      <td>0.0</td>\n",
              "      <td>...</td>\n",
              "      <td>1.0</td>\n",
              "      <td>0.0</td>\n",
              "      <td>0.0</td>\n",
              "      <td>1.0</td>\n",
              "      <td>0.0</td>\n",
              "      <td>0.0</td>\n",
              "      <td>0.0</td>\n",
              "      <td>0.0</td>\n",
              "      <td>0.0</td>\n",
              "      <td>0.0</td>\n",
              "    </tr>\n",
              "    <tr>\n",
              "      <th>2</th>\n",
              "      <td>23.0</td>\n",
              "      <td>108000.0</td>\n",
              "      <td>5.0</td>\n",
              "      <td>10000.0</td>\n",
              "      <td>10.99</td>\n",
              "      <td>1.0</td>\n",
              "      <td>0.09</td>\n",
              "      <td>2</td>\n",
              "      <td>1.0</td>\n",
              "      <td>0.0</td>\n",
              "      <td>...</td>\n",
              "      <td>0.0</td>\n",
              "      <td>0.0</td>\n",
              "      <td>0.0</td>\n",
              "      <td>0.0</td>\n",
              "      <td>0.0</td>\n",
              "      <td>0.0</td>\n",
              "      <td>1.0</td>\n",
              "      <td>0.0</td>\n",
              "      <td>0.0</td>\n",
              "      <td>0.0</td>\n",
              "    </tr>\n",
              "    <tr>\n",
              "      <th>3</th>\n",
              "      <td>32.0</td>\n",
              "      <td>80000.0</td>\n",
              "      <td>0.0</td>\n",
              "      <td>5000.0</td>\n",
              "      <td>10.99</td>\n",
              "      <td>0.0</td>\n",
              "      <td>0.06</td>\n",
              "      <td>6</td>\n",
              "      <td>0.0</td>\n",
              "      <td>0.0</td>\n",
              "      <td>...</td>\n",
              "      <td>0.0</td>\n",
              "      <td>0.0</td>\n",
              "      <td>0.0</td>\n",
              "      <td>0.0</td>\n",
              "      <td>0.0</td>\n",
              "      <td>1.0</td>\n",
              "      <td>0.0</td>\n",
              "      <td>0.0</td>\n",
              "      <td>0.0</td>\n",
              "      <td>0.0</td>\n",
              "    </tr>\n",
              "    <tr>\n",
              "      <th>4</th>\n",
              "      <td>21.0</td>\n",
              "      <td>47580.0</td>\n",
              "      <td>5.0</td>\n",
              "      <td>14000.0</td>\n",
              "      <td>6.03</td>\n",
              "      <td>0.0</td>\n",
              "      <td>0.29</td>\n",
              "      <td>2</td>\n",
              "      <td>1.0</td>\n",
              "      <td>0.0</td>\n",
              "      <td>...</td>\n",
              "      <td>0.0</td>\n",
              "      <td>0.0</td>\n",
              "      <td>0.0</td>\n",
              "      <td>1.0</td>\n",
              "      <td>0.0</td>\n",
              "      <td>0.0</td>\n",
              "      <td>0.0</td>\n",
              "      <td>0.0</td>\n",
              "      <td>0.0</td>\n",
              "      <td>0.0</td>\n",
              "    </tr>\n",
              "    <tr>\n",
              "      <th>...</th>\n",
              "      <td>...</td>\n",
              "      <td>...</td>\n",
              "      <td>...</td>\n",
              "      <td>...</td>\n",
              "      <td>...</td>\n",
              "      <td>...</td>\n",
              "      <td>...</td>\n",
              "      <td>...</td>\n",
              "      <td>...</td>\n",
              "      <td>...</td>\n",
              "      <td>...</td>\n",
              "      <td>...</td>\n",
              "      <td>...</td>\n",
              "      <td>...</td>\n",
              "      <td>...</td>\n",
              "      <td>...</td>\n",
              "      <td>...</td>\n",
              "      <td>...</td>\n",
              "      <td>...</td>\n",
              "      <td>...</td>\n",
              "      <td>...</td>\n",
              "    </tr>\n",
              "    <tr>\n",
              "      <th>33790</th>\n",
              "      <td>29.0</td>\n",
              "      <td>91200.0</td>\n",
              "      <td>13.0</td>\n",
              "      <td>2000.0</td>\n",
              "      <td>11.49</td>\n",
              "      <td>0.0</td>\n",
              "      <td>0.02</td>\n",
              "      <td>8</td>\n",
              "      <td>1.0</td>\n",
              "      <td>0.0</td>\n",
              "      <td>...</td>\n",
              "      <td>1.0</td>\n",
              "      <td>0.0</td>\n",
              "      <td>0.0</td>\n",
              "      <td>0.0</td>\n",
              "      <td>1.0</td>\n",
              "      <td>0.0</td>\n",
              "      <td>0.0</td>\n",
              "      <td>0.0</td>\n",
              "      <td>0.0</td>\n",
              "      <td>0.0</td>\n",
              "    </tr>\n",
              "    <tr>\n",
              "      <th>33791</th>\n",
              "      <td>23.0</td>\n",
              "      <td>65000.0</td>\n",
              "      <td>3.0</td>\n",
              "      <td>7000.0</td>\n",
              "      <td>7.90</td>\n",
              "      <td>0.0</td>\n",
              "      <td>0.11</td>\n",
              "      <td>4</td>\n",
              "      <td>1.0</td>\n",
              "      <td>0.0</td>\n",
              "      <td>...</td>\n",
              "      <td>0.0</td>\n",
              "      <td>0.0</td>\n",
              "      <td>0.0</td>\n",
              "      <td>1.0</td>\n",
              "      <td>0.0</td>\n",
              "      <td>0.0</td>\n",
              "      <td>0.0</td>\n",
              "      <td>0.0</td>\n",
              "      <td>0.0</td>\n",
              "      <td>0.0</td>\n",
              "    </tr>\n",
              "    <tr>\n",
              "      <th>33792</th>\n",
              "      <td>26.0</td>\n",
              "      <td>54996.0</td>\n",
              "      <td>8.0</td>\n",
              "      <td>20000.0</td>\n",
              "      <td>12.18</td>\n",
              "      <td>1.0</td>\n",
              "      <td>0.36</td>\n",
              "      <td>4</td>\n",
              "      <td>0.0</td>\n",
              "      <td>0.0</td>\n",
              "      <td>...</td>\n",
              "      <td>0.0</td>\n",
              "      <td>0.0</td>\n",
              "      <td>0.0</td>\n",
              "      <td>0.0</td>\n",
              "      <td>1.0</td>\n",
              "      <td>0.0</td>\n",
              "      <td>0.0</td>\n",
              "      <td>0.0</td>\n",
              "      <td>0.0</td>\n",
              "      <td>0.0</td>\n",
              "    </tr>\n",
              "    <tr>\n",
              "      <th>33793</th>\n",
              "      <td>24.0</td>\n",
              "      <td>28590.0</td>\n",
              "      <td>7.0</td>\n",
              "      <td>8000.0</td>\n",
              "      <td>15.65</td>\n",
              "      <td>1.0</td>\n",
              "      <td>0.28</td>\n",
              "      <td>2</td>\n",
              "      <td>0.0</td>\n",
              "      <td>0.0</td>\n",
              "      <td>...</td>\n",
              "      <td>0.0</td>\n",
              "      <td>0.0</td>\n",
              "      <td>0.0</td>\n",
              "      <td>0.0</td>\n",
              "      <td>0.0</td>\n",
              "      <td>0.0</td>\n",
              "      <td>1.0</td>\n",
              "      <td>0.0</td>\n",
              "      <td>0.0</td>\n",
              "      <td>0.0</td>\n",
              "    </tr>\n",
              "    <tr>\n",
              "      <th>33794</th>\n",
              "      <td>27.0</td>\n",
              "      <td>63500.0</td>\n",
              "      <td>3.0</td>\n",
              "      <td>4000.0</td>\n",
              "      <td>10.37</td>\n",
              "      <td>0.0</td>\n",
              "      <td>0.06</td>\n",
              "      <td>9</td>\n",
              "      <td>0.0</td>\n",
              "      <td>0.0</td>\n",
              "      <td>...</td>\n",
              "      <td>1.0</td>\n",
              "      <td>0.0</td>\n",
              "      <td>0.0</td>\n",
              "      <td>0.0</td>\n",
              "      <td>1.0</td>\n",
              "      <td>0.0</td>\n",
              "      <td>0.0</td>\n",
              "      <td>0.0</td>\n",
              "      <td>0.0</td>\n",
              "      <td>0.0</td>\n",
              "    </tr>\n",
              "  </tbody>\n",
              "</table>\n",
              "<p>33795 rows × 27 columns</p>\n",
              "</div>"
            ],
            "text/plain": [
              "       idade  salario_anual  tempo_de_trabalho  valor_emprestimo  \\\n",
              "0       32.0        77400.0                0.0           10000.0   \n",
              "1       26.0        30000.0                1.0            7200.0   \n",
              "2       23.0       108000.0                5.0           10000.0   \n",
              "3       32.0        80000.0                0.0            5000.0   \n",
              "4       21.0        47580.0                5.0           14000.0   \n",
              "...      ...            ...                ...               ...   \n",
              "33790   29.0        91200.0               13.0            2000.0   \n",
              "33791   23.0        65000.0                3.0            7000.0   \n",
              "33792   26.0        54996.0                8.0           20000.0   \n",
              "33793   24.0        28590.0                7.0            8000.0   \n",
              "33794   27.0        63500.0                3.0            4000.0   \n",
              "\n",
              "       taxa_de_juros  possibilidade_de_inadimplencia  renda_percentual  \\\n",
              "0              18.43                             1.0              0.13   \n",
              "1              17.58                             0.0              0.14   \n",
              "2              10.99                             1.0              0.09   \n",
              "3              10.99                             0.0              0.06   \n",
              "4               6.03                             0.0              0.29   \n",
              "...              ...                             ...               ...   \n",
              "33790          11.49                             0.0              0.02   \n",
              "33791           7.90                             0.0              0.11   \n",
              "33792          12.18                             1.0              0.36   \n",
              "33793          15.65                             1.0              0.28   \n",
              "33794          10.37                             0.0              0.06   \n",
              "\n",
              "       tempo_solicitacao    0    1  ...    9   10   11   12   13   14   15  \\\n",
              "0                      6  1.0  0.0  ...  0.0  0.0  0.0  0.0  0.0  0.0  0.0   \n",
              "1                      2  0.0  0.0  ...  1.0  0.0  0.0  1.0  0.0  0.0  0.0   \n",
              "2                      2  1.0  0.0  ...  0.0  0.0  0.0  0.0  0.0  0.0  1.0   \n",
              "3                      6  0.0  0.0  ...  0.0  0.0  0.0  0.0  0.0  1.0  0.0   \n",
              "4                      2  1.0  0.0  ...  0.0  0.0  0.0  1.0  0.0  0.0  0.0   \n",
              "...                  ...  ...  ...  ...  ...  ...  ...  ...  ...  ...  ...   \n",
              "33790                  8  1.0  0.0  ...  1.0  0.0  0.0  0.0  1.0  0.0  0.0   \n",
              "33791                  4  1.0  0.0  ...  0.0  0.0  0.0  1.0  0.0  0.0  0.0   \n",
              "33792                  4  0.0  0.0  ...  0.0  0.0  0.0  0.0  1.0  0.0  0.0   \n",
              "33793                  2  0.0  0.0  ...  0.0  0.0  0.0  0.0  0.0  0.0  1.0   \n",
              "33794                  9  0.0  0.0  ...  1.0  0.0  0.0  0.0  1.0  0.0  0.0   \n",
              "\n",
              "        16   17   18  \n",
              "0      0.0  1.0  0.0  \n",
              "1      0.0  0.0  0.0  \n",
              "2      0.0  0.0  0.0  \n",
              "3      0.0  0.0  0.0  \n",
              "4      0.0  0.0  0.0  \n",
              "...    ...  ...  ...  \n",
              "33790  0.0  0.0  0.0  \n",
              "33791  0.0  0.0  0.0  \n",
              "33792  0.0  0.0  0.0  \n",
              "33793  0.0  0.0  0.0  \n",
              "33794  0.0  0.0  0.0  \n",
              "\n",
              "[33795 rows x 27 columns]"
            ]
          },
          "execution_count": 35,
          "metadata": {},
          "output_type": "execute_result"
        }
      ],
      "source": [
        "X"
      ]
    },
    {
      "cell_type": "code",
      "execution_count": 36,
      "metadata": {},
      "outputs": [
        {
          "data": {
            "text/plain": [
              "Index([                         'idade',                  'salario_anual',\n",
              "                    'tempo_de_trabalho',               'valor_emprestimo',\n",
              "                        'taxa_de_juros', 'possibilidade_de_inadimplencia',\n",
              "                     'renda_percentual',              'tempo_solicitacao',\n",
              "                                      0,                                1,\n",
              "                                      2,                                3,\n",
              "                                      4,                                5,\n",
              "                                      6,                                7,\n",
              "                                      8,                                9,\n",
              "                                     10,                               11,\n",
              "                                     12,                               13,\n",
              "                                     14,                               15,\n",
              "                                     16,                               17,\n",
              "                                     18],\n",
              "      dtype='object')"
            ]
          },
          "execution_count": 36,
          "metadata": {},
          "output_type": "execute_result"
        }
      ],
      "source": [
        "X.columns"
      ]
    },
    {
      "cell_type": "code",
      "execution_count": 37,
      "metadata": {
        "colab": {
          "base_uri": "https://localhost:8080/"
        },
        "id": "tgf9LmJDeWJ9",
        "outputId": "363544d8-bdd5-4771-f7c1-6e9cf1403387"
      },
      "outputs": [
        {
          "name": "stdout",
          "output_type": "stream",
          "text": [
            "<class 'pandas.core.frame.DataFrame'>\n",
            "RangeIndex: 33795 entries, 0 to 33794\n",
            "Data columns (total 27 columns):\n",
            " #   Column                          Non-Null Count  Dtype  \n",
            "---  ------                          --------------  -----  \n",
            " 0   idade                           33795 non-null  float64\n",
            " 1   salario_anual                   33795 non-null  float64\n",
            " 2   tempo_de_trabalho               33795 non-null  float64\n",
            " 3   valor_emprestimo                33795 non-null  float64\n",
            " 4   taxa_de_juros                   33795 non-null  float64\n",
            " 5   possibilidade_de_inadimplencia  33795 non-null  float64\n",
            " 6   renda_percentual                33795 non-null  float64\n",
            " 7   tempo_solicitacao               33795 non-null  int64  \n",
            " 8   0                               33795 non-null  float64\n",
            " 9   1                               33795 non-null  float64\n",
            " 10  2                               33795 non-null  float64\n",
            " 11  3                               33795 non-null  float64\n",
            " 12  4                               33795 non-null  float64\n",
            " 13  5                               33795 non-null  float64\n",
            " 14  6                               33795 non-null  float64\n",
            " 15  7                               33795 non-null  float64\n",
            " 16  8                               33795 non-null  float64\n",
            " 17  9                               33795 non-null  float64\n",
            " 18  10                              33795 non-null  float64\n",
            " 19  11                              33795 non-null  float64\n",
            " 20  12                              33795 non-null  float64\n",
            " 21  13                              33795 non-null  float64\n",
            " 22  14                              33795 non-null  float64\n",
            " 23  15                              33795 non-null  float64\n",
            " 24  16                              33795 non-null  float64\n",
            " 25  17                              33795 non-null  float64\n",
            " 26  18                              33795 non-null  float64\n",
            "dtypes: float64(26), int64(1)\n",
            "memory usage: 7.0 MB\n"
          ]
        }
      ],
      "source": [
        "X.info()"
      ]
    },
    {
      "cell_type": "markdown",
      "metadata": {
        "execution": {
          "iopub.execute_input": "2022-09-13T11:58:46.553260Z",
          "iopub.status.busy": "2022-09-13T11:58:46.552798Z",
          "iopub.status.idle": "2022-09-13T11:58:46.558440Z",
          "shell.execute_reply": "2022-09-13T11:58:46.557201Z",
          "shell.execute_reply.started": "2022-09-13T11:58:46.553225Z"
        },
        "id": "EK5nSoVeK06j"
      },
      "source": [
        "# Balanceando os dados"
      ]
    },
    {
      "cell_type": "code",
      "execution_count": 38,
      "metadata": {
        "colab": {
          "base_uri": "https://localhost:8080/",
          "height": 401
        },
        "execution": {
          "iopub.execute_input": "2022-09-15T14:09:47.578496Z",
          "iopub.status.busy": "2022-09-15T14:09:47.578048Z",
          "iopub.status.idle": "2022-09-15T14:09:47.986535Z",
          "shell.execute_reply": "2022-09-15T14:09:47.984633Z",
          "shell.execute_reply.started": "2022-09-15T14:09:47.578456Z"
        },
        "id": "kBKaegB8K06k",
        "outputId": "d6b2592d-ff14-4327-8f71-1ce1dd1b22e3"
      },
      "outputs": [
        {
          "data": {
            "text/plain": [
              "<Figure size 1000x1500 with 0 Axes>"
            ]
          },
          "execution_count": 38,
          "metadata": {},
          "output_type": "execute_result"
        },
        {
          "data": {
            "image/png": "[encoded data removed]",
            "text/plain": [
              "<Figure size 500x500 with 1 Axes>"
            ]
          },
          "metadata": {},
          "output_type": "display_data"
        },
        {
          "data": {
            "text/plain": [
              "<Figure size 1000x1500 with 0 Axes>"
            ]
          },
          "metadata": {},
          "output_type": "display_data"
        }
      ],
      "source": [
        "sns.displot(x=y.inadimplente,legend=True)\n",
        "plt.figure(figsize=(10,15))"
      ]
    },
    {
      "cell_type": "code",
      "execution_count": 39,
      "metadata": {
        "execution": {
          "iopub.execute_input": "2022-09-15T14:09:48.478806Z",
          "iopub.status.busy": "2022-09-15T14:09:48.478414Z",
          "iopub.status.idle": "2022-09-15T14:09:48.675019Z",
          "shell.execute_reply": "2022-09-15T14:09:48.673866Z",
          "shell.execute_reply.started": "2022-09-15T14:09:48.478774Z"
        },
        "id": "brLoNMnXK06l"
      },
      "outputs": [
        {
          "name": "stderr",
          "output_type": "stream",
          "text": [
            "C:\\Users\\hever\\AppData\\Roaming\\Python\\Python39\\site-packages\\sklearn\\utils\\validation.py:1858: FutureWarning: Feature names only support names that are all strings. Got feature names with dtypes: ['int', 'str']. An error will be raised in 1.2.\n",
            "  warnings.warn(\n"
          ]
        }
      ],
      "source": [
        "nm = NearMiss()\n",
        "X_res, y_res = nm.fit_resample(X, y)"
      ]
    },
    {
      "cell_type": "code",
      "execution_count": 40,
      "metadata": {
        "colab": {
          "base_uri": "https://localhost:8080/",
          "height": 401
        },
        "execution": {
          "iopub.execute_input": "2022-09-15T14:09:49.110585Z",
          "iopub.status.busy": "2022-09-15T14:09:49.109743Z",
          "iopub.status.idle": "2022-09-15T14:09:49.488578Z",
          "shell.execute_reply": "2022-09-15T14:09:49.487709Z",
          "shell.execute_reply.started": "2022-09-15T14:09:49.110522Z"
        },
        "id": "OwAm6qIjK06m",
        "outputId": "7ffccc03-b9e7-4d46-a632-32925e5153b4"
      },
      "outputs": [
        {
          "data": {
            "text/plain": [
              "<Figure size 1000x1500 with 0 Axes>"
            ]
          },
          "execution_count": 40,
          "metadata": {},
          "output_type": "execute_result"
        },
        {
          "data": {
            "image/png": "[encoded data removed]",
            "text/plain": [
              "<Figure size 500x500 with 1 Axes>"
            ]
          },
          "metadata": {},
          "output_type": "display_data"
        },
        {
          "data": {
            "text/plain": [
              "<Figure size 1000x1500 with 0 Axes>"
            ]
          },
          "metadata": {},
          "output_type": "display_data"
        }
      ],
      "source": [
        "sns.displot(x=y_res.inadimplente)\n",
        "plt.figure(figsize=(10,15))"
      ]
    },
    {
      "cell_type": "code",
      "execution_count": 41,
      "metadata": {},
      "outputs": [
        {
          "data": {
            "text/plain": [
              "array([[2.300e+01, 5.400e+04, 1.000e+00, ..., 0.000e+00, 0.000e+00,\n",
              "        0.000e+00],\n",
              "       [2.300e+01, 3.000e+04, 1.000e+00, ..., 1.000e+00, 0.000e+00,\n",
              "        0.000e+00],\n",
              "       [2.300e+01, 4.000e+04, 4.000e+00, ..., 0.000e+00, 0.000e+00,\n",
              "        0.000e+00],\n",
              "       ...,\n",
              "       [3.600e+01, 8.400e+04, 6.000e+00, ..., 0.000e+00, 0.000e+00,\n",
              "        0.000e+00],\n",
              "       [2.400e+01, 2.736e+04, 4.000e+00, ..., 0.000e+00, 0.000e+00,\n",
              "        0.000e+00],\n",
              "       [2.400e+01, 2.859e+04, 7.000e+00, ..., 0.000e+00, 0.000e+00,\n",
              "        0.000e+00]])"
            ]
          },
          "execution_count": 41,
          "metadata": {},
          "output_type": "execute_result"
        }
      ],
      "source": [
        "X_res.values"
      ]
    },
    {
      "cell_type": "code",
      "execution_count": 42,
      "metadata": {
        "colab": {
          "base_uri": "https://localhost:8080/"
        },
        "execution": {
          "iopub.execute_input": "2022-09-15T14:09:49.902332Z",
          "iopub.status.busy": "2022-09-15T14:09:49.901715Z",
          "iopub.status.idle": "2022-09-15T14:09:49.916835Z",
          "shell.execute_reply": "2022-09-15T14:09:49.915682Z",
          "shell.execute_reply.started": "2022-09-15T14:09:49.902296Z"
        },
        "id": "WZheHXftK06s",
        "outputId": "36fa2f79-8efd-4c22-8f84-5927cd539742"
      },
      "outputs": [
        {
          "name": "stderr",
          "output_type": "stream",
          "text": [
            "C:\\Users\\hever\\AppData\\Roaming\\Python\\Python39\\site-packages\\sklearn\\utils\\validation.py:1858: FutureWarning: Feature names only support names that are all strings. Got feature names with dtypes: ['int', 'str']. An error will be raised in 1.2.\n",
            "  warnings.warn(\n",
            "C:\\Users\\hever\\AppData\\Roaming\\Python\\Python39\\site-packages\\sklearn\\utils\\validation.py:1858: FutureWarning: Feature names only support names that are all strings. Got feature names with dtypes: ['int', 'str']. An error will be raised in 1.2.\n",
            "  warnings.warn(\n"
          ]
        },
        {
          "data": {
            "text/plain": [
              "(11898, 27)"
            ]
          },
          "execution_count": 42,
          "metadata": {},
          "output_type": "execute_result"
        }
      ],
      "source": [
        "# normalizando\n",
        "norm=StandardScaler()\n",
        "X_novo=norm.fit_transform(X_res)\n",
        "X_novo.shape"
      ]
    },
    {
      "cell_type": "code",
      "execution_count": 43,
      "metadata": {
        "execution": {
          "iopub.execute_input": "2022-09-15T14:09:50.584802Z",
          "iopub.status.busy": "2022-09-15T14:09:50.584388Z",
          "iopub.status.idle": "2022-09-15T14:09:50.642422Z",
          "shell.execute_reply": "2022-09-15T14:09:50.641497Z",
          "shell.execute_reply.started": "2022-09-15T14:09:50.584769Z"
        },
        "id": "c4gtasmBK061"
      },
      "outputs": [],
      "source": [
        "X_treino,X_teste,Y_treino,Y_teste=train_test_split(X_novo,y_res,test_size=0.25,stratify=y_res,random_state=42 )"
      ]
    },
    {
      "cell_type": "code",
      "execution_count": 44,
      "metadata": {
        "colab": {
          "base_uri": "https://localhost:8080/"
        },
        "execution": {
          "iopub.execute_input": "2022-09-15T14:09:51.404761Z",
          "iopub.status.busy": "2022-09-15T14:09:51.404332Z",
          "iopub.status.idle": "2022-09-15T14:09:51.416900Z",
          "shell.execute_reply": "2022-09-15T14:09:51.415883Z",
          "shell.execute_reply.started": "2022-09-15T14:09:51.404725Z"
        },
        "id": "7N6Lapc8K062",
        "outputId": "eed7118a-ff07-4f14-f286-dbd97730084e"
      },
      "outputs": [
        {
          "data": {
            "text/plain": [
              "inadimplente\n",
              "1.0             4462\n",
              "0.0             4461\n",
              "dtype: int64"
            ]
          },
          "execution_count": 44,
          "metadata": {},
          "output_type": "execute_result"
        }
      ],
      "source": [
        "x_treino= X_treino.reshape(-1, 1)\n",
        "x_teste = X_teste.reshape(-1, 1)\n",
        "Y_treino.value_counts()"
      ]
    },
    {
      "cell_type": "code",
      "execution_count": 45,
      "metadata": {
        "colab": {
          "base_uri": "https://localhost:8080/"
        },
        "execution": {
          "iopub.execute_input": "2022-09-15T14:09:52.526644Z",
          "iopub.status.busy": "2022-09-15T14:09:52.525531Z",
          "iopub.status.idle": "2022-09-15T14:09:52.532595Z",
          "shell.execute_reply": "2022-09-15T14:09:52.531265Z",
          "shell.execute_reply.started": "2022-09-15T14:09:52.526579Z"
        },
        "id": "USlxfGVQK065",
        "outputId": "4e4e1ab9-d1dd-4fbb-883f-dd44351f2fa7"
      },
      "outputs": [
        {
          "name": "stdout",
          "output_type": "stream",
          "text": [
            "X completo tem (11898, 27), e o de treino tem (8923, 27) já o de teste tem (2975, 27)\n"
          ]
        }
      ],
      "source": [
        "print(f'X completo tem {X_novo.shape}, e o de treino tem {X_treino.shape} já o de teste tem {X_teste.shape}')"
      ]
    },
    {
      "cell_type": "markdown",
      "metadata": {
        "id": "IpEvvtH6K069"
      },
      "source": [
        "# Modelo"
      ]
    },
    {
      "cell_type": "code",
      "execution_count": 46,
      "metadata": {
        "execution": {
          "iopub.execute_input": "2022-09-15T14:52:34.954991Z",
          "iopub.status.busy": "2022-09-15T14:52:34.954575Z",
          "iopub.status.idle": "2022-09-15T14:52:35.990939Z",
          "shell.execute_reply": "2022-09-15T14:52:35.990053Z",
          "shell.execute_reply.started": "2022-09-15T14:52:34.954948Z"
        },
        "id": "cLmHHOKhK07F"
      },
      "outputs": [],
      "source": [
        "tree= RandomForestClassifier(max_depth=10,random_state=42,criterion='entropy',min_samples_split=2,\\\n",
        "                             min_samples_leaf=2)\n",
        "tree=tree.fit(X_treino,np.ravel(Y_treino))\n",
        "Y_pred=tree.predict(X_teste)\n"
      ]
    },
    {
      "cell_type": "code",
      "execution_count": 47,
      "metadata": {
        "colab": {
          "base_uri": "https://localhost:8080/"
        },
        "execution": {
          "iopub.execute_input": "2022-09-15T14:52:35.994104Z",
          "iopub.status.busy": "2022-09-15T14:52:35.993464Z",
          "iopub.status.idle": "2022-09-15T14:52:36.002504Z",
          "shell.execute_reply": "2022-09-15T14:52:36.001059Z",
          "shell.execute_reply.started": "2022-09-15T14:52:35.994048Z"
        },
        "id": "POHplKR4K07J",
        "outputId": "22c3e158-ed60-4ab0-e058-f2b9eb08b7d9"
      },
      "outputs": [
        {
          "data": {
            "text/plain": [
              "array([1., 1., 0., ..., 0., 0., 0.])"
            ]
          },
          "execution_count": 47,
          "metadata": {},
          "output_type": "execute_result"
        }
      ],
      "source": [
        "Y_pred"
      ]
    },
    {
      "cell_type": "code",
      "execution_count": 48,
      "metadata": {
        "colab": {
          "base_uri": "https://localhost:8080/"
        },
        "execution": {
          "iopub.execute_input": "2022-09-15T14:52:36.004665Z",
          "iopub.status.busy": "2022-09-15T14:52:36.004222Z",
          "iopub.status.idle": "2022-09-15T14:52:40.157913Z",
          "shell.execute_reply": "2022-09-15T14:52:40.156700Z",
          "shell.execute_reply.started": "2022-09-15T14:52:36.004629Z"
        },
        "id": "50fja2SUK08I",
        "outputId": "0b0a0ceb-9d9f-46ec-a774-105ccf9a57b7"
      },
      "outputs": [
        {
          "name": "stdout",
          "output_type": "stream",
          "text": [
            "0.8998319327731092 0.8387464387464387 0.9899125756556826\n",
            "[0.87170868 0.88515406 0.88571429 0.8867713  0.89686099]\n"
          ]
        }
      ],
      "source": [
        "print(accuracy_score(Y_teste,Y_pred),\n",
        "precision_score(Y_teste,Y_pred),recall_score(Y_teste,Y_pred))\n",
        "print(cross_val_score(tree,X_treino,np.ravel(Y_treino)))"
      ]
    },
    {
      "cell_type": "code",
      "execution_count": 49,
      "metadata": {
        "colab": {
          "base_uri": "https://localhost:8080/"
        },
        "execution": {
          "iopub.execute_input": "2022-09-15T14:53:43.448668Z",
          "iopub.status.busy": "2022-09-15T14:53:43.447172Z",
          "iopub.status.idle": "2022-09-15T14:53:43.478156Z",
          "shell.execute_reply": "2022-09-15T14:53:43.476900Z",
          "shell.execute_reply.started": "2022-09-15T14:53:43.448612Z"
        },
        "id": "aSX6tIKDK08N",
        "outputId": "6e5aebdc-cafd-4568-d7c0-448ad25520a4"
      },
      "outputs": [
        {
          "name": "stdout",
          "output_type": "stream",
          "text": [
            "0.4998319327731092 0.4998319327731092 1.0\n",
            "[0.49971989 0.49971989 0.49971989 0.5        0.5       ]\n"
          ]
        }
      ],
      "source": [
        "dm= DummyClassifier(strategy=\"most_frequent\")\n",
        "dm=dm.fit(X_treino,np.ravel(Y_treino))\n",
        "Y_pred_dm=dm.predict(X_teste)\n",
        "print(accuracy_score(Y_teste,Y_pred_dm),precision_score(Y_teste,Y_pred_dm),recall_score(Y_teste,Y_pred_dm))\n",
        "print(cross_val_score(dm,X_treino,np.ravel(Y_treino)))"
      ]
    },
    {
      "cell_type": "markdown",
      "metadata": {
        "id": "xpGrtKcGK08Y"
      },
      "source": [
        "# Matriz de Confusão & Curva ROC "
      ]
    },
    {
      "cell_type": "code",
      "execution_count": 50,
      "metadata": {
        "colab": {
          "base_uri": "https://localhost:8080/",
          "height": 303
        },
        "execution": {
          "iopub.execute_input": "2022-09-15T14:45:13.820441Z",
          "iopub.status.busy": "2022-09-15T14:45:13.820014Z",
          "iopub.status.idle": "2022-09-15T14:45:14.153076Z",
          "shell.execute_reply": "2022-09-15T14:45:14.151854Z",
          "shell.execute_reply.started": "2022-09-15T14:45:13.820390Z"
        },
        "id": "PwRVMSEvK08Z",
        "outputId": "e64e8fe2-711c-4766-b954-c7bd3c1e40b9"
      },
      "outputs": [
        {
          "data": {
            "text/plain": [
              "<sklearn.metrics._plot.confusion_matrix.ConfusionMatrixDisplay at 0x2a8107cd850>"
            ]
          },
          "execution_count": 50,
          "metadata": {},
          "output_type": "execute_result"
        },
        {
          "data": {
            "image/png": "[encoded data removed]",
            "text/plain": [
              "<Figure size 640x480 with 2 Axes>"
            ]
          },
          "metadata": {},
          "output_type": "display_data"
        }
      ],
      "source": [
        "ConfusionMatrixDisplay.from_estimator(tree, X_teste, Y_teste,cmap='Blues')"
      ]
    },
    {
      "cell_type": "code",
      "execution_count": 51,
      "metadata": {
        "colab": {
          "base_uri": "https://localhost:8080/",
          "height": 303
        },
        "execution": {
          "iopub.execute_input": "2022-09-15T14:53:58.956263Z",
          "iopub.status.busy": "2022-09-15T14:53:58.955815Z",
          "iopub.status.idle": "2022-09-15T14:53:59.245892Z",
          "shell.execute_reply": "2022-09-15T14:53:59.244636Z",
          "shell.execute_reply.started": "2022-09-15T14:53:58.956223Z"
        },
        "id": "0rSzh_O7K08f",
        "outputId": "8882b0d4-4e6c-4271-e8fa-35eb651a6e71"
      },
      "outputs": [
        {
          "data": {
            "text/plain": [
              "<sklearn.metrics._plot.confusion_matrix.ConfusionMatrixDisplay at 0x2a80fe12dc0>"
            ]
          },
          "execution_count": 51,
          "metadata": {},
          "output_type": "execute_result"
        },
        {
          "data": {
            "image/png": "[encoded data removed]",
            "text/plain": [
              "<Figure size 640x480 with 2 Axes>"
            ]
          },
          "metadata": {},
          "output_type": "display_data"
        }
      ],
      "source": [
        "ConfusionMatrixDisplay.from_estimator(dm, X_teste, Y_teste,cmap='Blues')"
      ]
    },
    {
      "cell_type": "code",
      "execution_count": 52,
      "metadata": {
        "colab": {
          "base_uri": "https://localhost:8080/",
          "height": 303
        },
        "execution": {
          "iopub.execute_input": "2022-09-15T14:59:48.706415Z",
          "iopub.status.busy": "2022-09-15T14:59:48.705612Z",
          "iopub.status.idle": "2022-09-15T14:59:49.006866Z",
          "shell.execute_reply": "2022-09-15T14:59:49.005678Z",
          "shell.execute_reply.started": "2022-09-15T14:59:48.706358Z"
        },
        "id": "pPQGA_f7K08i",
        "outputId": "683b36dc-a40f-498f-caf1-28c182f12923"
      },
      "outputs": [
        {
          "data": {
            "text/plain": [
              "<sklearn.metrics._plot.roc_curve.RocCurveDisplay at 0x2a80fdf7580>"
            ]
          },
          "execution_count": 52,
          "metadata": {},
          "output_type": "execute_result"
        },
        {
          "data": {
            "image/png": "[encoded data removed]",
            "text/plain": [
              "<Figure size 640x480 with 1 Axes>"
            ]
          },
          "metadata": {},
          "output_type": "display_data"
        }
      ],
      "source": [
        "RocCurveDisplay.from_predictions(Y_teste, Y_pred)"
      ]
    },
    {
      "cell_type": "markdown",
      "metadata": {
        "id": "gPwSFKukNFtm"
      },
      "source": [
        "# Exportação "
      ]
    },
    {
      "cell_type": "code",
      "execution_count": 53,
      "metadata": {
        "id": "L_dnHY4uNEx_"
      },
      "outputs": [],
      "source": [
        "filename = 'modelo_tree.pkl'\n",
        "pickle.dump(tree, open(filename, 'wb'))\n",
        "filename= 'OneHotEncoder.pkl'\n",
        "pickle.dump(one_hot_enc, open(filename, 'wb'))\n",
        "filename= 'norm.pkl'\n",
        "pickle.dump(norm, open(filename, 'wb'))"
      ]
    },
    {
      "cell_type": "code",
      "execution_count": null,
      "metadata": {},
      "outputs": [],
      "source": []
    }
  ],
  "metadata": {
    "colab": {
      "provenance": []
    },
    "kernelspec": {
      "display_name": "base",
      "language": "python",
      "name": "python3"
    },
    "language_info": {
      "codemirror_mode": {
        "name": "ipython",
        "version": 3
      },
      "file_extension": ".py",
      "mimetype": "text/x-python",
      "name": "python",
      "nbconvert_exporter": "python",
      "pygments_lexer": "ipython3",
      "version": "3.9.13"
    },
    "vscode": {
      "interpreter": {
        "hash": "ad2bdc8ecc057115af97d19610ffacc2b4e99fae6737bb82f5d7fb13d2f2c186"
      }
    }
  },
  "nbformat": 4,
  "nbformat_minor": 0
}
