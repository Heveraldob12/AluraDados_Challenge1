{
 "cells": [
  {
   "cell_type": "markdown",
   "metadata": {},
   "source": [
    "## Imports\n",
    "\n",
    "----\n"
   ]
  },
  {
   "cell_type": "code",
   "execution_count": 106,
   "metadata": {},
   "outputs": [],
   "source": [
    "import pandas as pd\n",
    "import numpy as np\n",
    "import seaborn as sns\n",
    "import matplotlib.pyplot as plt\n"
   ]
  },
  {
   "cell_type": "markdown",
   "metadata": {},
   "source": [
    "## Exploração de dados"
   ]
  },
  {
   "cell_type": "code",
   "execution_count": 107,
   "metadata": {},
   "outputs": [
    {
     "data": {
      "text/html": [
       "<div>\n",
       "<style scoped>\n",
       "    .dataframe tbody tr th:only-of-type {\n",
       "        vertical-align: middle;\n",
       "    }\n",
       "\n",
       "    .dataframe tbody tr th {\n",
       "        vertical-align: top;\n",
       "    }\n",
       "\n",
       "    .dataframe thead th {\n",
       "        text-align: right;\n",
       "    }\n",
       "</style>\n",
       "<table border=\"1\" class=\"dataframe\">\n",
       "  <thead>\n",
       "    <tr style=\"text-align: right;\">\n",
       "      <th></th>\n",
       "      <th>person_id</th>\n",
       "      <th>loan_id</th>\n",
       "      <th>cb_id</th>\n",
       "      <th>person_id.1</th>\n",
       "      <th>person_age</th>\n",
       "      <th>person_income</th>\n",
       "      <th>person_home_ownership</th>\n",
       "      <th>person_emp_length</th>\n",
       "      <th>cb_id.1</th>\n",
       "      <th>cb_person_default_on_file</th>\n",
       "      <th>cb_person_cred_hist_length</th>\n",
       "      <th>loan_id.1</th>\n",
       "      <th>loan_intent</th>\n",
       "      <th>loan_grade</th>\n",
       "      <th>loan_amnt</th>\n",
       "      <th>loan_int_rate</th>\n",
       "      <th>loan_status</th>\n",
       "      <th>loan_percent_income</th>\n",
       "    </tr>\n",
       "  </thead>\n",
       "  <tbody>\n",
       "    <tr>\n",
       "      <th>4995</th>\n",
       "      <td>BTvs5y6J-R0gM</td>\n",
       "      <td>nWnGOcAD-oy4q</td>\n",
       "      <td>UavjXGtM-zniM</td>\n",
       "      <td>BTvs5y6J-R0gM</td>\n",
       "      <td>27.0</td>\n",
       "      <td>85000.0</td>\n",
       "      <td>Rent</td>\n",
       "      <td>1.0</td>\n",
       "      <td>00dSoeyd-le7C</td>\n",
       "      <td>N</td>\n",
       "      <td>4</td>\n",
       "      <td>NMgFWFWN-2yGG</td>\n",
       "      <td>Homeimprovement</td>\n",
       "      <td>C</td>\n",
       "      <td>20000</td>\n",
       "      <td>13.22</td>\n",
       "      <td>0</td>\n",
       "      <td>0.22</td>\n",
       "    </tr>\n",
       "    <tr>\n",
       "      <th>4996</th>\n",
       "      <td>btZaFYfo-TYgi</td>\n",
       "      <td>GrDbEWpw-9Bg8</td>\n",
       "      <td>k5p80Kgm-6z5C</td>\n",
       "      <td>btZaFYfo-TYgi</td>\n",
       "      <td>31.0</td>\n",
       "      <td>65000.0</td>\n",
       "      <td>Rent</td>\n",
       "      <td>2.0</td>\n",
       "      <td>00dSoeyd-le7C</td>\n",
       "      <td>N</td>\n",
       "      <td>4</td>\n",
       "      <td>NMgFWFWN-2yGG</td>\n",
       "      <td>Homeimprovement</td>\n",
       "      <td>C</td>\n",
       "      <td>20000</td>\n",
       "      <td>13.22</td>\n",
       "      <td>0</td>\n",
       "      <td>0.22</td>\n",
       "    </tr>\n",
       "    <tr>\n",
       "      <th>4997</th>\n",
       "      <td>bWemJZcI-4fvg</td>\n",
       "      <td>JD5CHQMy-KkXi</td>\n",
       "      <td>iFOFcMeh-ScCn</td>\n",
       "      <td>bWemJZcI-4fvg</td>\n",
       "      <td>25.0</td>\n",
       "      <td>42000.0</td>\n",
       "      <td>Mortgage</td>\n",
       "      <td>NaN</td>\n",
       "      <td>00dSoeyd-le7C</td>\n",
       "      <td>N</td>\n",
       "      <td>4</td>\n",
       "      <td>NMgFWFWN-2yGG</td>\n",
       "      <td>Homeimprovement</td>\n",
       "      <td>C</td>\n",
       "      <td>20000</td>\n",
       "      <td>13.22</td>\n",
       "      <td>0</td>\n",
       "      <td>0.22</td>\n",
       "    </tr>\n",
       "    <tr>\n",
       "      <th>4998</th>\n",
       "      <td>bWYCDHZb-xmAv</td>\n",
       "      <td>3sSpERgm-CuPW</td>\n",
       "      <td>t2CZLy0N-RuZq</td>\n",
       "      <td>bWYCDHZb-xmAv</td>\n",
       "      <td>42.0</td>\n",
       "      <td>66500.0</td>\n",
       "      <td>Rent</td>\n",
       "      <td>8.0</td>\n",
       "      <td>00dSoeyd-le7C</td>\n",
       "      <td>N</td>\n",
       "      <td>4</td>\n",
       "      <td>NMgFWFWN-2yGG</td>\n",
       "      <td>Homeimprovement</td>\n",
       "      <td>C</td>\n",
       "      <td>20000</td>\n",
       "      <td>13.22</td>\n",
       "      <td>0</td>\n",
       "      <td>0.22</td>\n",
       "    </tr>\n",
       "    <tr>\n",
       "      <th>4999</th>\n",
       "      <td>bX3iZLeS-PsYM</td>\n",
       "      <td>g0xmTJtx-J421</td>\n",
       "      <td>TBnJJn9o-jFD0</td>\n",
       "      <td>bX3iZLeS-PsYM</td>\n",
       "      <td>NaN</td>\n",
       "      <td>NaN</td>\n",
       "      <td>Rent</td>\n",
       "      <td>3.0</td>\n",
       "      <td>00dSoeyd-le7C</td>\n",
       "      <td>N</td>\n",
       "      <td>4</td>\n",
       "      <td>NMgFWFWN-2yGG</td>\n",
       "      <td>Homeimprovement</td>\n",
       "      <td>C</td>\n",
       "      <td>20000</td>\n",
       "      <td>13.22</td>\n",
       "      <td>0</td>\n",
       "      <td>0.22</td>\n",
       "    </tr>\n",
       "  </tbody>\n",
       "</table>\n",
       "</div>"
      ],
      "text/plain": [
       "          person_id        loan_id          cb_id    person_id.1  person_age  \\\n",
       "4995  BTvs5y6J-R0gM  nWnGOcAD-oy4q  UavjXGtM-zniM  BTvs5y6J-R0gM        27.0   \n",
       "4996  btZaFYfo-TYgi  GrDbEWpw-9Bg8  k5p80Kgm-6z5C  btZaFYfo-TYgi        31.0   \n",
       "4997  bWemJZcI-4fvg  JD5CHQMy-KkXi  iFOFcMeh-ScCn  bWemJZcI-4fvg        25.0   \n",
       "4998  bWYCDHZb-xmAv  3sSpERgm-CuPW  t2CZLy0N-RuZq  bWYCDHZb-xmAv        42.0   \n",
       "4999  bX3iZLeS-PsYM  g0xmTJtx-J421  TBnJJn9o-jFD0  bX3iZLeS-PsYM         NaN   \n",
       "\n",
       "      person_income person_home_ownership  person_emp_length        cb_id.1  \\\n",
       "4995        85000.0                  Rent                1.0  00dSoeyd-le7C   \n",
       "4996        65000.0                  Rent                2.0  00dSoeyd-le7C   \n",
       "4997        42000.0              Mortgage                NaN  00dSoeyd-le7C   \n",
       "4998        66500.0                  Rent                8.0  00dSoeyd-le7C   \n",
       "4999            NaN                  Rent                3.0  00dSoeyd-le7C   \n",
       "\n",
       "     cb_person_default_on_file  cb_person_cred_hist_length      loan_id.1  \\\n",
       "4995                         N                           4  NMgFWFWN-2yGG   \n",
       "4996                         N                           4  NMgFWFWN-2yGG   \n",
       "4997                         N                           4  NMgFWFWN-2yGG   \n",
       "4998                         N                           4  NMgFWFWN-2yGG   \n",
       "4999                         N                           4  NMgFWFWN-2yGG   \n",
       "\n",
       "          loan_intent loan_grade  loan_amnt  loan_int_rate  loan_status  \\\n",
       "4995  Homeimprovement          C      20000          13.22            0   \n",
       "4996  Homeimprovement          C      20000          13.22            0   \n",
       "4997  Homeimprovement          C      20000          13.22            0   \n",
       "4998  Homeimprovement          C      20000          13.22            0   \n",
       "4999  Homeimprovement          C      20000          13.22            0   \n",
       "\n",
       "      loan_percent_income  \n",
       "4995                 0.22  \n",
       "4996                 0.22  \n",
       "4997                 0.22  \n",
       "4998                 0.22  \n",
       "4999                 0.22  "
      ]
     },
     "execution_count": 107,
     "metadata": {},
     "output_type": "execute_result"
    }
   ],
   "source": [
    "data= pd.read_csv('C:/Users/O mais FODA de todos/Desktop/DADOS2000.csv')\n",
    "data.tail()"
   ]
  },
  {
   "cell_type": "code",
   "execution_count": 108,
   "metadata": {},
   "outputs": [
    {
     "data": {
      "text/plain": [
       "(5000, 18)"
      ]
     },
     "execution_count": 108,
     "metadata": {},
     "output_type": "execute_result"
    }
   ],
   "source": [
    "data.shape"
   ]
  },
  {
   "cell_type": "code",
   "execution_count": 109,
   "metadata": {},
   "outputs": [
    {
     "data": {
      "text/plain": [
       "array([27., 26., 23., 24., 22., 32., 35., 21., 25., 28., nan, 33., 31.,\n",
       "       36., 39., 30., 46., 29., 42., 34., 37., 54., 52., 53., 48., 44.,\n",
       "       43., 40., 57., 38., 50., 41., 55., 47., 63., 62., 66., 45., 49.,\n",
       "       58., 59., 70., 20.])"
      ]
     },
     "execution_count": 109,
     "metadata": {},
     "output_type": "execute_result"
    }
   ],
   "source": [
    "data['person_age'].unique()"
   ]
  },
  {
   "cell_type": "code",
   "execution_count": 110,
   "metadata": {},
   "outputs": [
    {
     "data": {
      "text/plain": [
       "array(['Homeimprovement'], dtype=object)"
      ]
     },
     "execution_count": 110,
     "metadata": {},
     "output_type": "execute_result"
    }
   ],
   "source": [
    "data['loan_intent'].unique()\n"
   ]
  },
  {
   "cell_type": "code",
   "execution_count": 111,
   "metadata": {},
   "outputs": [
    {
     "name": "stdout",
     "output_type": "stream",
     "text": [
      "<class 'pandas.core.frame.DataFrame'>\n",
      "RangeIndex: 5000 entries, 0 to 4999\n",
      "Data columns (total 18 columns):\n",
      " #   Column                      Non-Null Count  Dtype  \n",
      "---  ------                      --------------  -----  \n",
      " 0   person_id                   5000 non-null   object \n",
      " 1   loan_id                     5000 non-null   object \n",
      " 2   cb_id                       5000 non-null   object \n",
      " 3   person_id.1                 5000 non-null   object \n",
      " 4   person_age                  4946 non-null   float64\n",
      " 5   person_income               4945 non-null   float64\n",
      " 6   person_home_ownership       4942 non-null   object \n",
      " 7   person_emp_length           4826 non-null   float64\n",
      " 8   cb_id.1                     5000 non-null   object \n",
      " 9   cb_person_default_on_file   5000 non-null   object \n",
      " 10  cb_person_cred_hist_length  5000 non-null   int64  \n",
      " 11  loan_id.1                   5000 non-null   object \n",
      " 12  loan_intent                 5000 non-null   object \n",
      " 13  loan_grade                  5000 non-null   object \n",
      " 14  loan_amnt                   5000 non-null   int64  \n",
      " 15  loan_int_rate               5000 non-null   float64\n",
      " 16  loan_status                 5000 non-null   int64  \n",
      " 17  loan_percent_income         5000 non-null   float64\n",
      "dtypes: float64(5), int64(3), object(10)\n",
      "memory usage: 703.2+ KB\n"
     ]
    }
   ],
   "source": [
    "data.info()"
   ]
  },
  {
   "cell_type": "code",
   "execution_count": 112,
   "metadata": {},
   "outputs": [
    {
     "data": {
      "text/plain": [
       "person_id                       0\n",
       "loan_id                         0\n",
       "cb_id                           0\n",
       "person_id.1                     0\n",
       "person_age                     54\n",
       "person_income                  55\n",
       "person_home_ownership          58\n",
       "person_emp_length             174\n",
       "cb_id.1                         0\n",
       "cb_person_default_on_file       0\n",
       "cb_person_cred_hist_length      0\n",
       "loan_id.1                       0\n",
       "loan_intent                     0\n",
       "loan_grade                      0\n",
       "loan_amnt                       0\n",
       "loan_int_rate                   0\n",
       "loan_status                     0\n",
       "loan_percent_income             0\n",
       "dtype: int64"
      ]
     },
     "execution_count": 112,
     "metadata": {},
     "output_type": "execute_result"
    }
   ],
   "source": [
    "data.isnull().sum()"
   ]
  },
  {
   "cell_type": "code",
   "execution_count": 113,
   "metadata": {},
   "outputs": [],
   "source": [
    "data.dropna(inplace=True)"
   ]
  },
  {
   "cell_type": "code",
   "execution_count": 114,
   "metadata": {},
   "outputs": [],
   "source": [
    "data.drop(columns=['loan_id','person_id','cb_id'], inplace=True)"
   ]
  },
  {
   "cell_type": "code",
   "execution_count": 115,
   "metadata": {},
   "outputs": [
    {
     "data": {
      "text/plain": [
       "person_id.1                   0\n",
       "person_age                    0\n",
       "person_income                 0\n",
       "person_home_ownership         0\n",
       "person_emp_length             0\n",
       "cb_id.1                       0\n",
       "cb_person_default_on_file     0\n",
       "cb_person_cred_hist_length    0\n",
       "loan_id.1                     0\n",
       "loan_intent                   0\n",
       "loan_grade                    0\n",
       "loan_amnt                     0\n",
       "loan_int_rate                 0\n",
       "loan_status                   0\n",
       "loan_percent_income           0\n",
       "dtype: int64"
      ]
     },
     "execution_count": 115,
     "metadata": {},
     "output_type": "execute_result"
    }
   ],
   "source": [
    "data.eq('').sum()"
   ]
  },
  {
   "cell_type": "code",
   "execution_count": 116,
   "metadata": {},
   "outputs": [
    {
     "name": "stdout",
     "output_type": "stream",
     "text": [
      "[27. 26. 23. 24. 22. 32. 21. 25. 28. 33. 31. 36. 39. 30. 29. 42. 34. 35.\n",
      " 37. 54. 52. 53. 48. 44. 43. 40. 57. 38. 46. 41. 55. 47. 63. 62. 66. 50.\n",
      " 45. 49. 58. 59. 70. 20.] \n",
      " ['Rent' 'Mortgage' 'Own' 'Other'] \n",
      " ['N' 'Y'] \n",
      " [ 2 10  4] \n",
      " ['Homeimprovement']\n"
     ]
    }
   ],
   "source": [
    "print(data['person_age'].unique(), \n",
    "      '\\n',\n",
    "      data['person_home_ownership'].unique(),\n",
    "      '\\n',\n",
    "      data['cb_person_default_on_file'].unique(),\n",
    "      '\\n',\n",
    "      data['cb_person_cred_hist_length'].unique(),\n",
    "      '\\n',\n",
    "      data['loan_intent'].unique())"
   ]
  },
  {
   "cell_type": "code",
   "execution_count": 117,
   "metadata": {},
   "outputs": [
    {
     "data": {
      "text/plain": [
       "1200000.0"
      ]
     },
     "execution_count": 117,
     "metadata": {},
     "output_type": "execute_result"
    }
   ],
   "source": [
    "data['person_income'].max()"
   ]
  },
  {
   "cell_type": "code",
   "execution_count": 118,
   "metadata": {},
   "outputs": [],
   "source": [
    "map={'person_id.1':'pessoa_id',\n",
    "'person_age':'idade',\n",
    "'person_income':'salario_anual',\n",
    "'person_home_ownership':'situacao_moradia',\n",
    "'person_emp_length':'tempo_de_trabalho',\n",
    "'loan_id.1':'id_solicitacao',\n",
    "'loan_intent':'motivo_do_emprestimo',\n",
    "'loan_grade':'pontuacao',\n",
    "'loan_amnt':'valor_emprestimo',\n",
    "'loan_int_rate':'taxa_de_juros',\n",
    "'loan_status':'possibilidade_de_inadimplencia',\n",
    "'loan_percent_income':'renda_percentual',\n",
    "'cb_id.1': 'id_historico',\n",
    "'cb_person_default_on_file':'inadimplente',\n",
    "'cb_person_cred_hist_length':'tempo_solicitação'}"
   ]
  },
  {
   "cell_type": "code",
   "execution_count": 119,
   "metadata": {},
   "outputs": [
    {
     "data": {
      "text/html": [
       "<div>\n",
       "<style scoped>\n",
       "    .dataframe tbody tr th:only-of-type {\n",
       "        vertical-align: middle;\n",
       "    }\n",
       "\n",
       "    .dataframe tbody tr th {\n",
       "        vertical-align: top;\n",
       "    }\n",
       "\n",
       "    .dataframe thead th {\n",
       "        text-align: right;\n",
       "    }\n",
       "</style>\n",
       "<table border=\"1\" class=\"dataframe\">\n",
       "  <thead>\n",
       "    <tr style=\"text-align: right;\">\n",
       "      <th></th>\n",
       "      <th>pessoa_id</th>\n",
       "      <th>idade</th>\n",
       "      <th>salario_anual</th>\n",
       "      <th>situacao_moradia</th>\n",
       "      <th>tempo_de_trabalho</th>\n",
       "      <th>id_historico</th>\n",
       "      <th>inadimplente</th>\n",
       "      <th>tempo_solicitação</th>\n",
       "      <th>id_solicitacao</th>\n",
       "      <th>motivo_do_emprestimo</th>\n",
       "      <th>pontuacao</th>\n",
       "      <th>valor_emprestimo</th>\n",
       "      <th>taxa_de_juros</th>\n",
       "      <th>possibilidade_de_inadimplencia</th>\n",
       "      <th>renda_percentual</th>\n",
       "    </tr>\n",
       "  </thead>\n",
       "  <tbody>\n",
       "    <tr>\n",
       "      <th>0</th>\n",
       "      <td>7IopS1IJ-y39E</td>\n",
       "      <td>27.0</td>\n",
       "      <td>52000.0</td>\n",
       "      <td>Rent</td>\n",
       "      <td>3.0</td>\n",
       "      <td>006sNB1n-wNqM</td>\n",
       "      <td>N</td>\n",
       "      <td>2</td>\n",
       "      <td>NMgFWFWN-2yGG</td>\n",
       "      <td>Homeimprovement</td>\n",
       "      <td>C</td>\n",
       "      <td>20000</td>\n",
       "      <td>13.22</td>\n",
       "      <td>0</td>\n",
       "      <td>0.22</td>\n",
       "    </tr>\n",
       "    <tr>\n",
       "      <th>1</th>\n",
       "      <td>7kE80ROd-Hk2B</td>\n",
       "      <td>26.0</td>\n",
       "      <td>27000.0</td>\n",
       "      <td>Rent</td>\n",
       "      <td>0.0</td>\n",
       "      <td>006sNB1n-wNqM</td>\n",
       "      <td>N</td>\n",
       "      <td>2</td>\n",
       "      <td>NMgFWFWN-2yGG</td>\n",
       "      <td>Homeimprovement</td>\n",
       "      <td>C</td>\n",
       "      <td>20000</td>\n",
       "      <td>13.22</td>\n",
       "      <td>0</td>\n",
       "      <td>0.22</td>\n",
       "    </tr>\n",
       "    <tr>\n",
       "      <th>3</th>\n",
       "      <td>7RB2MbPr-EXP9</td>\n",
       "      <td>26.0</td>\n",
       "      <td>63000.0</td>\n",
       "      <td>Rent</td>\n",
       "      <td>3.0</td>\n",
       "      <td>006sNB1n-wNqM</td>\n",
       "      <td>N</td>\n",
       "      <td>2</td>\n",
       "      <td>NMgFWFWN-2yGG</td>\n",
       "      <td>Homeimprovement</td>\n",
       "      <td>C</td>\n",
       "      <td>20000</td>\n",
       "      <td>13.22</td>\n",
       "      <td>0</td>\n",
       "      <td>0.22</td>\n",
       "    </tr>\n",
       "    <tr>\n",
       "      <th>4</th>\n",
       "      <td>7RNTB8kM-f94f</td>\n",
       "      <td>23.0</td>\n",
       "      <td>30000.0</td>\n",
       "      <td>Rent</td>\n",
       "      <td>0.0</td>\n",
       "      <td>006sNB1n-wNqM</td>\n",
       "      <td>N</td>\n",
       "      <td>2</td>\n",
       "      <td>NMgFWFWN-2yGG</td>\n",
       "      <td>Homeimprovement</td>\n",
       "      <td>C</td>\n",
       "      <td>20000</td>\n",
       "      <td>13.22</td>\n",
       "      <td>0</td>\n",
       "      <td>0.22</td>\n",
       "    </tr>\n",
       "    <tr>\n",
       "      <th>5</th>\n",
       "      <td>7TIYKOF5-3iXR</td>\n",
       "      <td>27.0</td>\n",
       "      <td>44000.0</td>\n",
       "      <td>Rent</td>\n",
       "      <td>1.0</td>\n",
       "      <td>006sNB1n-wNqM</td>\n",
       "      <td>N</td>\n",
       "      <td>2</td>\n",
       "      <td>NMgFWFWN-2yGG</td>\n",
       "      <td>Homeimprovement</td>\n",
       "      <td>C</td>\n",
       "      <td>20000</td>\n",
       "      <td>13.22</td>\n",
       "      <td>0</td>\n",
       "      <td>0.22</td>\n",
       "    </tr>\n",
       "    <tr>\n",
       "      <th>...</th>\n",
       "      <td>...</td>\n",
       "      <td>...</td>\n",
       "      <td>...</td>\n",
       "      <td>...</td>\n",
       "      <td>...</td>\n",
       "      <td>...</td>\n",
       "      <td>...</td>\n",
       "      <td>...</td>\n",
       "      <td>...</td>\n",
       "      <td>...</td>\n",
       "      <td>...</td>\n",
       "      <td>...</td>\n",
       "      <td>...</td>\n",
       "      <td>...</td>\n",
       "      <td>...</td>\n",
       "    </tr>\n",
       "    <tr>\n",
       "      <th>4993</th>\n",
       "      <td>BrW6CBOg-SZ7P</td>\n",
       "      <td>41.0</td>\n",
       "      <td>45000.0</td>\n",
       "      <td>Rent</td>\n",
       "      <td>2.0</td>\n",
       "      <td>00dSoeyd-le7C</td>\n",
       "      <td>N</td>\n",
       "      <td>4</td>\n",
       "      <td>NMgFWFWN-2yGG</td>\n",
       "      <td>Homeimprovement</td>\n",
       "      <td>C</td>\n",
       "      <td>20000</td>\n",
       "      <td>13.22</td>\n",
       "      <td>0</td>\n",
       "      <td>0.22</td>\n",
       "    </tr>\n",
       "    <tr>\n",
       "      <th>4994</th>\n",
       "      <td>Bs9uwXon-4AOu</td>\n",
       "      <td>32.0</td>\n",
       "      <td>84456.0</td>\n",
       "      <td>Rent</td>\n",
       "      <td>5.0</td>\n",
       "      <td>00dSoeyd-le7C</td>\n",
       "      <td>N</td>\n",
       "      <td>4</td>\n",
       "      <td>NMgFWFWN-2yGG</td>\n",
       "      <td>Homeimprovement</td>\n",
       "      <td>C</td>\n",
       "      <td>20000</td>\n",
       "      <td>13.22</td>\n",
       "      <td>0</td>\n",
       "      <td>0.22</td>\n",
       "    </tr>\n",
       "    <tr>\n",
       "      <th>4995</th>\n",
       "      <td>BTvs5y6J-R0gM</td>\n",
       "      <td>27.0</td>\n",
       "      <td>85000.0</td>\n",
       "      <td>Rent</td>\n",
       "      <td>1.0</td>\n",
       "      <td>00dSoeyd-le7C</td>\n",
       "      <td>N</td>\n",
       "      <td>4</td>\n",
       "      <td>NMgFWFWN-2yGG</td>\n",
       "      <td>Homeimprovement</td>\n",
       "      <td>C</td>\n",
       "      <td>20000</td>\n",
       "      <td>13.22</td>\n",
       "      <td>0</td>\n",
       "      <td>0.22</td>\n",
       "    </tr>\n",
       "    <tr>\n",
       "      <th>4996</th>\n",
       "      <td>btZaFYfo-TYgi</td>\n",
       "      <td>31.0</td>\n",
       "      <td>65000.0</td>\n",
       "      <td>Rent</td>\n",
       "      <td>2.0</td>\n",
       "      <td>00dSoeyd-le7C</td>\n",
       "      <td>N</td>\n",
       "      <td>4</td>\n",
       "      <td>NMgFWFWN-2yGG</td>\n",
       "      <td>Homeimprovement</td>\n",
       "      <td>C</td>\n",
       "      <td>20000</td>\n",
       "      <td>13.22</td>\n",
       "      <td>0</td>\n",
       "      <td>0.22</td>\n",
       "    </tr>\n",
       "    <tr>\n",
       "      <th>4998</th>\n",
       "      <td>bWYCDHZb-xmAv</td>\n",
       "      <td>42.0</td>\n",
       "      <td>66500.0</td>\n",
       "      <td>Rent</td>\n",
       "      <td>8.0</td>\n",
       "      <td>00dSoeyd-le7C</td>\n",
       "      <td>N</td>\n",
       "      <td>4</td>\n",
       "      <td>NMgFWFWN-2yGG</td>\n",
       "      <td>Homeimprovement</td>\n",
       "      <td>C</td>\n",
       "      <td>20000</td>\n",
       "      <td>13.22</td>\n",
       "      <td>0</td>\n",
       "      <td>0.22</td>\n",
       "    </tr>\n",
       "  </tbody>\n",
       "</table>\n",
       "<p>4699 rows × 15 columns</p>\n",
       "</div>"
      ],
      "text/plain": [
       "          pessoa_id  idade  salario_anual situacao_moradia  tempo_de_trabalho  \\\n",
       "0     7IopS1IJ-y39E   27.0        52000.0             Rent                3.0   \n",
       "1     7kE80ROd-Hk2B   26.0        27000.0             Rent                0.0   \n",
       "3     7RB2MbPr-EXP9   26.0        63000.0             Rent                3.0   \n",
       "4     7RNTB8kM-f94f   23.0        30000.0             Rent                0.0   \n",
       "5     7TIYKOF5-3iXR   27.0        44000.0             Rent                1.0   \n",
       "...             ...    ...            ...              ...                ...   \n",
       "4993  BrW6CBOg-SZ7P   41.0        45000.0             Rent                2.0   \n",
       "4994  Bs9uwXon-4AOu   32.0        84456.0             Rent                5.0   \n",
       "4995  BTvs5y6J-R0gM   27.0        85000.0             Rent                1.0   \n",
       "4996  btZaFYfo-TYgi   31.0        65000.0             Rent                2.0   \n",
       "4998  bWYCDHZb-xmAv   42.0        66500.0             Rent                8.0   \n",
       "\n",
       "       id_historico inadimplente  tempo_solicitação id_solicitacao  \\\n",
       "0     006sNB1n-wNqM            N                  2  NMgFWFWN-2yGG   \n",
       "1     006sNB1n-wNqM            N                  2  NMgFWFWN-2yGG   \n",
       "3     006sNB1n-wNqM            N                  2  NMgFWFWN-2yGG   \n",
       "4     006sNB1n-wNqM            N                  2  NMgFWFWN-2yGG   \n",
       "5     006sNB1n-wNqM            N                  2  NMgFWFWN-2yGG   \n",
       "...             ...          ...                ...            ...   \n",
       "4993  00dSoeyd-le7C            N                  4  NMgFWFWN-2yGG   \n",
       "4994  00dSoeyd-le7C            N                  4  NMgFWFWN-2yGG   \n",
       "4995  00dSoeyd-le7C            N                  4  NMgFWFWN-2yGG   \n",
       "4996  00dSoeyd-le7C            N                  4  NMgFWFWN-2yGG   \n",
       "4998  00dSoeyd-le7C            N                  4  NMgFWFWN-2yGG   \n",
       "\n",
       "     motivo_do_emprestimo pontuacao  valor_emprestimo  taxa_de_juros  \\\n",
       "0         Homeimprovement         C             20000          13.22   \n",
       "1         Homeimprovement         C             20000          13.22   \n",
       "3         Homeimprovement         C             20000          13.22   \n",
       "4         Homeimprovement         C             20000          13.22   \n",
       "5         Homeimprovement         C             20000          13.22   \n",
       "...                   ...       ...               ...            ...   \n",
       "4993      Homeimprovement         C             20000          13.22   \n",
       "4994      Homeimprovement         C             20000          13.22   \n",
       "4995      Homeimprovement         C             20000          13.22   \n",
       "4996      Homeimprovement         C             20000          13.22   \n",
       "4998      Homeimprovement         C             20000          13.22   \n",
       "\n",
       "      possibilidade_de_inadimplencia  renda_percentual  \n",
       "0                                  0              0.22  \n",
       "1                                  0              0.22  \n",
       "3                                  0              0.22  \n",
       "4                                  0              0.22  \n",
       "5                                  0              0.22  \n",
       "...                              ...               ...  \n",
       "4993                               0              0.22  \n",
       "4994                               0              0.22  \n",
       "4995                               0              0.22  \n",
       "4996                               0              0.22  \n",
       "4998                               0              0.22  \n",
       "\n",
       "[4699 rows x 15 columns]"
      ]
     },
     "execution_count": 119,
     "metadata": {},
     "output_type": "execute_result"
    }
   ],
   "source": [
    "data.rename(columns=map,inplace=True)\n",
    "data"
   ]
  },
  {
   "cell_type": "code",
   "execution_count": 120,
   "metadata": {},
   "outputs": [
    {
     "name": "stdout",
     "output_type": "stream",
     "text": [
      "<class 'pandas.core.frame.DataFrame'>\n",
      "Int64Index: 4699 entries, 0 to 4998\n",
      "Data columns (total 15 columns):\n",
      " #   Column                          Non-Null Count  Dtype  \n",
      "---  ------                          --------------  -----  \n",
      " 0   pessoa_id                       4699 non-null   object \n",
      " 1   idade                           4699 non-null   float64\n",
      " 2   salario_anual                   4699 non-null   float64\n",
      " 3   situacao_moradia                4699 non-null   object \n",
      " 4   tempo_de_trabalho               4699 non-null   float64\n",
      " 5   id_historico                    4699 non-null   object \n",
      " 6   inadimplente                    4699 non-null   object \n",
      " 7   tempo_solicitação               4699 non-null   int64  \n",
      " 8   id_solicitacao                  4699 non-null   object \n",
      " 9   motivo_do_emprestimo            4699 non-null   object \n",
      " 10  pontuacao                       4699 non-null   object \n",
      " 11  valor_emprestimo                4699 non-null   int64  \n",
      " 12  taxa_de_juros                   4699 non-null   float64\n",
      " 13  possibilidade_de_inadimplencia  4699 non-null   int64  \n",
      " 14  renda_percentual                4699 non-null   float64\n",
      "dtypes: float64(5), int64(3), object(7)\n",
      "memory usage: 587.4+ KB\n"
     ]
    }
   ],
   "source": [
    "data.info()"
   ]
  },
  {
   "cell_type": "code",
   "execution_count": 121,
   "metadata": {},
   "outputs": [
    {
     "data": {
      "text/plain": [
       "<AxesSubplot:xlabel='salario_anual'>"
      ]
     },
     "execution_count": 121,
     "metadata": {},
     "output_type": "execute_result"
    },
    {
     "data": {
      "image/png": "[encoded data removed]",
      "text/plain": [
       "<Figure size 432x288 with 1 Axes>"
      ]
     },
     "metadata": {
      "needs_background": "light"
     },
     "output_type": "display_data"
    }
   ],
   "source": [
    "sns.boxplot(x=data.salario_anual)"
   ]
  },
  {
   "cell_type": "code",
   "execution_count": 122,
   "metadata": {},
   "outputs": [],
   "source": [
    "data.reset_index(drop=True,inplace=True)"
   ]
  },
  {
   "cell_type": "code",
   "execution_count": 123,
   "metadata": {},
   "outputs": [
    {
     "data": {
      "text/plain": [
       "3270    1200000.0\n",
       "1522    1200000.0\n",
       "1555     612000.0\n",
       "3303     612000.0\n",
       "3629     480000.0\n",
       "          ...    \n",
       "2266      10000.0\n",
       "2754      10000.0\n",
       "2519       9600.0\n",
       "4267       9600.0\n",
       "771        9600.0\n",
       "Name: salario_anual, Length: 4699, dtype: float64"
      ]
     },
     "execution_count": 123,
     "metadata": {},
     "output_type": "execute_result"
    }
   ],
   "source": [
    "data.salario_anual.sort_values(ascending=False)"
   ]
  },
  {
   "cell_type": "code",
   "execution_count": 124,
   "metadata": {},
   "outputs": [
    {
     "data": {
      "text/html": [
       "<div>\n",
       "<style scoped>\n",
       "    .dataframe tbody tr th:only-of-type {\n",
       "        vertical-align: middle;\n",
       "    }\n",
       "\n",
       "    .dataframe tbody tr th {\n",
       "        vertical-align: top;\n",
       "    }\n",
       "\n",
       "    .dataframe thead th {\n",
       "        text-align: right;\n",
       "    }\n",
       "</style>\n",
       "<table border=\"1\" class=\"dataframe\">\n",
       "  <thead>\n",
       "    <tr style=\"text-align: right;\">\n",
       "      <th></th>\n",
       "      <th>pessoa_id</th>\n",
       "      <th>idade</th>\n",
       "      <th>salario_anual</th>\n",
       "      <th>situacao_moradia</th>\n",
       "      <th>tempo_de_trabalho</th>\n",
       "      <th>id_historico</th>\n",
       "      <th>inadimplente</th>\n",
       "      <th>tempo_solicitação</th>\n",
       "      <th>id_solicitacao</th>\n",
       "      <th>motivo_do_emprestimo</th>\n",
       "      <th>pontuacao</th>\n",
       "      <th>valor_emprestimo</th>\n",
       "      <th>taxa_de_juros</th>\n",
       "      <th>possibilidade_de_inadimplencia</th>\n",
       "      <th>renda_percentual</th>\n",
       "    </tr>\n",
       "  </thead>\n",
       "  <tbody>\n",
       "    <tr>\n",
       "      <th>3270</th>\n",
       "      <td>LFb7vx4w-ExT0</td>\n",
       "      <td>36.0</td>\n",
       "      <td>1200000.0</td>\n",
       "      <td>Own</td>\n",
       "      <td>16.0</td>\n",
       "      <td>008PXO8T-b5gg</td>\n",
       "      <td>Y</td>\n",
       "      <td>10</td>\n",
       "      <td>NMgFWFWN-2yGG</td>\n",
       "      <td>Homeimprovement</td>\n",
       "      <td>C</td>\n",
       "      <td>20000</td>\n",
       "      <td>13.22</td>\n",
       "      <td>0</td>\n",
       "      <td>0.22</td>\n",
       "    </tr>\n",
       "    <tr>\n",
       "      <th>1522</th>\n",
       "      <td>LFb7vx4w-ExT0</td>\n",
       "      <td>36.0</td>\n",
       "      <td>1200000.0</td>\n",
       "      <td>Own</td>\n",
       "      <td>16.0</td>\n",
       "      <td>006sNB1n-wNqM</td>\n",
       "      <td>N</td>\n",
       "      <td>2</td>\n",
       "      <td>NMgFWFWN-2yGG</td>\n",
       "      <td>Homeimprovement</td>\n",
       "      <td>C</td>\n",
       "      <td>20000</td>\n",
       "      <td>13.22</td>\n",
       "      <td>0</td>\n",
       "      <td>0.22</td>\n",
       "    </tr>\n",
       "    <tr>\n",
       "      <th>3303</th>\n",
       "      <td>lXOr5ucD-P40T</td>\n",
       "      <td>33.0</td>\n",
       "      <td>612000.0</td>\n",
       "      <td>Rent</td>\n",
       "      <td>3.0</td>\n",
       "      <td>008PXO8T-b5gg</td>\n",
       "      <td>Y</td>\n",
       "      <td>10</td>\n",
       "      <td>NMgFWFWN-2yGG</td>\n",
       "      <td>Homeimprovement</td>\n",
       "      <td>C</td>\n",
       "      <td>20000</td>\n",
       "      <td>13.22</td>\n",
       "      <td>0</td>\n",
       "      <td>0.22</td>\n",
       "    </tr>\n",
       "    <tr>\n",
       "      <th>1555</th>\n",
       "      <td>lXOr5ucD-P40T</td>\n",
       "      <td>33.0</td>\n",
       "      <td>612000.0</td>\n",
       "      <td>Rent</td>\n",
       "      <td>3.0</td>\n",
       "      <td>006sNB1n-wNqM</td>\n",
       "      <td>N</td>\n",
       "      <td>2</td>\n",
       "      <td>NMgFWFWN-2yGG</td>\n",
       "      <td>Homeimprovement</td>\n",
       "      <td>C</td>\n",
       "      <td>20000</td>\n",
       "      <td>13.22</td>\n",
       "      <td>0</td>\n",
       "      <td>0.22</td>\n",
       "    </tr>\n",
       "  </tbody>\n",
       "</table>\n",
       "</div>"
      ],
      "text/plain": [
       "          pessoa_id  idade  salario_anual situacao_moradia  tempo_de_trabalho  \\\n",
       "3270  LFb7vx4w-ExT0   36.0      1200000.0              Own               16.0   \n",
       "1522  LFb7vx4w-ExT0   36.0      1200000.0              Own               16.0   \n",
       "3303  lXOr5ucD-P40T   33.0       612000.0             Rent                3.0   \n",
       "1555  lXOr5ucD-P40T   33.0       612000.0             Rent                3.0   \n",
       "\n",
       "       id_historico inadimplente  tempo_solicitação id_solicitacao  \\\n",
       "3270  008PXO8T-b5gg            Y                 10  NMgFWFWN-2yGG   \n",
       "1522  006sNB1n-wNqM            N                  2  NMgFWFWN-2yGG   \n",
       "3303  008PXO8T-b5gg            Y                 10  NMgFWFWN-2yGG   \n",
       "1555  006sNB1n-wNqM            N                  2  NMgFWFWN-2yGG   \n",
       "\n",
       "     motivo_do_emprestimo pontuacao  valor_emprestimo  taxa_de_juros  \\\n",
       "3270      Homeimprovement         C             20000          13.22   \n",
       "1522      Homeimprovement         C             20000          13.22   \n",
       "3303      Homeimprovement         C             20000          13.22   \n",
       "1555      Homeimprovement         C             20000          13.22   \n",
       "\n",
       "      possibilidade_de_inadimplencia  renda_percentual  \n",
       "3270                               0              0.22  \n",
       "1522                               0              0.22  \n",
       "3303                               0              0.22  \n",
       "1555                               0              0.22  "
      ]
     },
     "execution_count": 124,
     "metadata": {},
     "output_type": "execute_result"
    }
   ],
   "source": [
    "data.iloc[[3270,1522,3303,1555]]"
   ]
  },
  {
   "cell_type": "code",
   "execution_count": 125,
   "metadata": {},
   "outputs": [],
   "source": [
    "data.drop([3270,1522,3303,1555],inplace=True)\n",
    "data.reset_index(drop=True,inplace=True)"
   ]
  },
  {
   "cell_type": "code",
   "execution_count": 126,
   "metadata": {},
   "outputs": [
    {
     "data": {
      "text/plain": [
       "<AxesSubplot:xlabel='salario_anual'>"
      ]
     },
     "execution_count": 126,
     "metadata": {},
     "output_type": "execute_result"
    },
    {
     "data": {
      "image/png": "[encoded data removed]",
      "text/plain": [
       "<Figure size 432x288 with 1 Axes>"
      ]
     },
     "metadata": {
      "needs_background": "light"
     },
     "output_type": "display_data"
    }
   ],
   "source": [
    "sns.boxplot(x=data.salario_anual)"
   ]
  },
  {
   "cell_type": "code",
   "execution_count": null,
   "metadata": {},
   "outputs": [],
   "source": []
  }
 ],
 "metadata": {
  "kernelspec": {
   "display_name": "Python 3.9.12 ('base')",
   "language": "python",
   "name": "python3"
  },
  "language_info": {
   "codemirror_mode": {
    "name": "ipython",
    "version": 3
   },
   "file_extension": ".py",
   "mimetype": "text/x-python",
   "name": "python",
   "nbconvert_exporter": "python",
   "pygments_lexer": "ipython3",
   "version": "3.9.12"
  },
  "orig_nbformat": 4,
  "vscode": {
   "interpreter": {
    "hash": "0f11701c412c922bc11d2d5352bafc48834d38ce199a0d68de9bd59a66384d9e"
   }
  }
 },
 "nbformat": 4,
 "nbformat_minor": 2
}
